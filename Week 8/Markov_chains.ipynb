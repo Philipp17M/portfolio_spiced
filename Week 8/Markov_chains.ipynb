{
 "cells": [
  {
   "cell_type": "code",
   "execution_count": 1,
   "id": "771999f1",
   "metadata": {},
   "outputs": [],
   "source": [
    "import pandas as pd\n",
    "import numpy as np\n",
    "import seaborn as sns\n",
    "import plotly.express as px\n",
    "import random\n",
    "import time\n",
    "import random"
   ]
  },
  {
   "cell_type": "code",
   "execution_count": null,
   "id": "8ea4ba0d",
   "metadata": {},
   "outputs": [],
   "source": [
    "### Task:\n",
    "# extract Markov-probabilities from supermarket customer data: with which probability are customers moving from \n",
    "# location to location within the supermarket?\n",
    "# use those probabilites to set up a number of classes that can be used to simulate this supermarket:\n",
    "# class Customer, class Supermarket"
   ]
  },
  {
   "cell_type": "code",
   "execution_count": null,
   "id": "87a4b50a",
   "metadata": {},
   "outputs": [],
   "source": [
    "##############################\n",
    "### reading-in and resampling\n",
    "##############################"
   ]
  },
  {
   "cell_type": "code",
   "execution_count": 21,
   "id": "deae19c1",
   "metadata": {},
   "outputs": [],
   "source": [
    "# read-in multiple files of customer location data and store them in list\n",
    "df_list = []\n",
    "df_list.append(pd.read_csv('./data/monday.csv', sep=';', parse_dates=['timestamp']))\n",
    "df_list.append(pd.read_csv('./data/tuesday.csv', sep=';', parse_dates=['timestamp']))\n",
    "df_list.append(pd.read_csv('./data/wednesday.csv', sep=';', parse_dates=['timestamp']))\n",
    "df_list.append(pd.read_csv('./data/thursday.csv', sep=';', parse_dates=['timestamp']))\n",
    "df_list.append(pd.read_csv('./data/friday.csv', sep=';', parse_dates=['timestamp']))"
   ]
  },
  {
   "cell_type": "code",
   "execution_count": 22,
   "id": "95f252a9",
   "metadata": {},
   "outputs": [
    {
     "data": {
      "text/html": [
       "<div>\n",
       "<style scoped>\n",
       "    .dataframe tbody tr th:only-of-type {\n",
       "        vertical-align: middle;\n",
       "    }\n",
       "\n",
       "    .dataframe tbody tr th {\n",
       "        vertical-align: top;\n",
       "    }\n",
       "\n",
       "    .dataframe thead th {\n",
       "        text-align: right;\n",
       "    }\n",
       "</style>\n",
       "<table border=\"1\" class=\"dataframe\">\n",
       "  <thead>\n",
       "    <tr style=\"text-align: right;\">\n",
       "      <th></th>\n",
       "      <th>customer_no</th>\n",
       "      <th>location</th>\n",
       "    </tr>\n",
       "    <tr>\n",
       "      <th>timestamp</th>\n",
       "      <th></th>\n",
       "      <th></th>\n",
       "    </tr>\n",
       "  </thead>\n",
       "  <tbody>\n",
       "    <tr>\n",
       "      <th>2019-09-02 07:03:00</th>\n",
       "      <td>1</td>\n",
       "      <td>dairy</td>\n",
       "    </tr>\n",
       "    <tr>\n",
       "      <th>2019-09-02 07:03:00</th>\n",
       "      <td>2</td>\n",
       "      <td>dairy</td>\n",
       "    </tr>\n",
       "    <tr>\n",
       "      <th>2019-09-02 07:04:00</th>\n",
       "      <td>3</td>\n",
       "      <td>dairy</td>\n",
       "    </tr>\n",
       "    <tr>\n",
       "      <th>2019-09-02 07:04:00</th>\n",
       "      <td>4</td>\n",
       "      <td>dairy</td>\n",
       "    </tr>\n",
       "    <tr>\n",
       "      <th>2019-09-02 07:04:00</th>\n",
       "      <td>5</td>\n",
       "      <td>spices</td>\n",
       "    </tr>\n",
       "    <tr>\n",
       "      <th>...</th>\n",
       "      <td>...</td>\n",
       "      <td>...</td>\n",
       "    </tr>\n",
       "    <tr>\n",
       "      <th>2019-09-06 21:50:00</th>\n",
       "      <td>7435</td>\n",
       "      <td>dairy</td>\n",
       "    </tr>\n",
       "    <tr>\n",
       "      <th>2019-09-06 21:50:00</th>\n",
       "      <td>7442</td>\n",
       "      <td>checkout</td>\n",
       "    </tr>\n",
       "    <tr>\n",
       "      <th>2019-09-06 21:50:00</th>\n",
       "      <td>7443</td>\n",
       "      <td>checkout</td>\n",
       "    </tr>\n",
       "    <tr>\n",
       "      <th>2019-09-06 21:50:00</th>\n",
       "      <td>7444</td>\n",
       "      <td>drinks</td>\n",
       "    </tr>\n",
       "    <tr>\n",
       "      <th>2019-09-06 21:50:00</th>\n",
       "      <td>7445</td>\n",
       "      <td>spices</td>\n",
       "    </tr>\n",
       "  </tbody>\n",
       "</table>\n",
       "<p>24877 rows × 2 columns</p>\n",
       "</div>"
      ],
      "text/plain": [
       "                     customer_no  location\n",
       "timestamp                                 \n",
       "2019-09-02 07:03:00            1     dairy\n",
       "2019-09-02 07:03:00            2     dairy\n",
       "2019-09-02 07:04:00            3     dairy\n",
       "2019-09-02 07:04:00            4     dairy\n",
       "2019-09-02 07:04:00            5    spices\n",
       "...                          ...       ...\n",
       "2019-09-06 21:50:00         7435     dairy\n",
       "2019-09-06 21:50:00         7442  checkout\n",
       "2019-09-06 21:50:00         7443  checkout\n",
       "2019-09-06 21:50:00         7444    drinks\n",
       "2019-09-06 21:50:00         7445    spices\n",
       "\n",
       "[24877 rows x 2 columns]"
      ]
     },
     "execution_count": 22,
     "metadata": {},
     "output_type": "execute_result"
    }
   ],
   "source": [
    "# take the max customer no of df_i and add it to the customer no of df_i+1\n",
    "# so that the customer no keeps incrementing over the entire week and not only within a day\n",
    "for i in range(len(df_list)-1):\n",
    "    id_max = df_list[i]['customer_no'].max()\n",
    "    df_list[i+1]['customer_no'] = df_list[i+1]['customer_no'] + id_max\n",
    "\n",
    "# concat all df in list\n",
    "df = pd.concat(df_list, axis=0)\n",
    "# set timestamp as index for resampling\n",
    "df.set_index('timestamp', inplace=True)\n",
    "df"
   ]
  },
  {
   "cell_type": "code",
   "execution_count": 23,
   "id": "e737937b",
   "metadata": {},
   "outputs": [
    {
     "data": {
      "text/plain": [
       "array(['dairy', 'spices', 'fruit', 'checkout', 'drinks'], dtype=object)"
      ]
     },
     "execution_count": 23,
     "metadata": {},
     "output_type": "execute_result"
    }
   ],
   "source": [
    "# check for all possible locations\n",
    "df['location'].unique()"
   ]
  },
  {
   "cell_type": "code",
   "execution_count": 24,
   "id": "738a8281",
   "metadata": {},
   "outputs": [],
   "source": [
    "# resample df: the original data does not record a datapoint when the customer stays in a location\n",
    "# we want data that has a timestamp for each minute regardless of staying or changing locations\n",
    "# (important for Markov probabilites later)\n",
    "\n",
    "df_resampled = df.groupby('customer_no').resample('1T').ffill()\n",
    "df.reset_index(inplace=True)"
   ]
  },
  {
   "cell_type": "code",
   "execution_count": 25,
   "id": "80fba700",
   "metadata": {},
   "outputs": [],
   "source": [
    "# create time based feature 'hour' from timestamp\n",
    "df['date_hour'] = df['timestamp'].astype(str).str[:13]"
   ]
  },
  {
   "cell_type": "code",
   "execution_count": null,
   "id": "14bfbf87",
   "metadata": {},
   "outputs": [],
   "source": [
    "#############################\n",
    "# data exploration\n",
    "############################"
   ]
  },
  {
   "cell_type": "code",
   "execution_count": 26,
   "id": "cbcc6710",
   "metadata": {
    "scrolled": false
   },
   "outputs": [
    {
     "data": {
      "text/plain": [
       "location\n",
       "checkout    7417\n",
       "dairy       4679\n",
       "drinks      3905\n",
       "fruit       5122\n",
       "spices      3754\n",
       "Name: customer_no, dtype: int64"
      ]
     },
     "execution_count": 26,
     "metadata": {},
     "output_type": "execute_result"
    }
   ],
   "source": [
    "# number of customers in sections for the entire timeframe\n",
    "\n",
    "df.groupby('location').count()['customer_no']"
   ]
  },
  {
   "cell_type": "code",
   "execution_count": 40,
   "id": "d2a3652e",
   "metadata": {
    "scrolled": true
   },
   "outputs": [
    {
     "data": {
      "text/plain": [
       "location  date_hour    \n",
       "checkout  2019-09-02 07     92\n",
       "          2019-09-02 08    112\n",
       "          2019-09-02 09     85\n",
       "          2019-09-02 10     90\n",
       "          2019-09-02 11     55\n",
       "          2019-09-02 12     73\n",
       "          2019-09-02 13    120\n",
       "          2019-09-02 14     90\n",
       "          2019-09-02 15     94\n",
       "          2019-09-02 16     86\n",
       "          2019-09-02 17    122\n",
       "          2019-09-02 18    128\n",
       "          2019-09-02 19    129\n",
       "          2019-09-02 20    109\n",
       "          2019-09-02 21     52\n",
       "          2019-09-03 07     91\n",
       "          2019-09-03 08    129\n",
       "          2019-09-03 09     77\n",
       "          2019-09-03 10     81\n",
       "          2019-09-03 11     47\n",
       "          2019-09-03 12     60\n",
       "          2019-09-03 13    104\n",
       "          2019-09-03 14    110\n",
       "          2019-09-03 15     72\n",
       "          2019-09-03 16    118\n",
       "          2019-09-03 17    109\n",
       "          2019-09-03 18    134\n",
       "          2019-09-03 19    127\n",
       "          2019-09-03 20     99\n",
       "          2019-09-03 21     62\n",
       "          2019-09-04 07     85\n",
       "          2019-09-04 08    165\n",
       "          2019-09-04 09    106\n",
       "          2019-09-04 10     85\n",
       "          2019-09-04 11     88\n",
       "          2019-09-04 12     89\n",
       "          2019-09-04 13    102\n",
       "          2019-09-04 14    105\n",
       "          2019-09-04 15     79\n",
       "          2019-09-04 16     94\n",
       "          2019-09-04 17     98\n",
       "          2019-09-04 18     97\n",
       "          2019-09-04 19    192\n",
       "          2019-09-04 20     85\n",
       "          2019-09-04 21     56\n",
       "          2019-09-05 07     99\n",
       "          2019-09-05 08    139\n",
       "          2019-09-05 09    105\n",
       "          2019-09-05 10     91\n",
       "          2019-09-05 11     73\n",
       "          2019-09-05 12     72\n",
       "          2019-09-05 13     80\n",
       "          2019-09-05 14     83\n",
       "          2019-09-05 15     86\n",
       "          2019-09-05 16    118\n",
       "          2019-09-05 17    112\n",
       "          2019-09-05 18    123\n",
       "          2019-09-05 19    172\n",
       "          2019-09-05 20     96\n",
       "          2019-09-05 21     83\n",
       "          2019-09-06 07     87\n",
       "          2019-09-06 08    132\n",
       "          2019-09-06 09     82\n",
       "          2019-09-06 10     80\n",
       "          2019-09-06 11     79\n",
       "          2019-09-06 12     90\n",
       "          2019-09-06 13    108\n",
       "          2019-09-06 14    108\n",
       "          2019-09-06 15     81\n",
       "          2019-09-06 16    102\n",
       "          2019-09-06 17    115\n",
       "          2019-09-06 18    148\n",
       "          2019-09-06 19    135\n",
       "          2019-09-06 20    103\n",
       "          2019-09-06 21     52\n",
       "dairy     2019-09-02 07     59\n",
       "          2019-09-02 08     68\n",
       "          2019-09-02 09     50\n",
       "          2019-09-02 10     58\n",
       "          2019-09-02 11     36\n",
       "          2019-09-02 12     55\n",
       "          2019-09-02 13     76\n",
       "          2019-09-02 14     58\n",
       "          2019-09-02 15     67\n",
       "          2019-09-02 16     49\n",
       "          2019-09-02 17     79\n",
       "          2019-09-02 18     87\n",
       "          2019-09-02 19     64\n",
       "          2019-09-02 20     67\n",
       "          2019-09-02 21     22\n",
       "          2019-09-03 07     62\n",
       "          2019-09-03 08     95\n",
       "          2019-09-03 09     48\n",
       "          2019-09-03 10     55\n",
       "          2019-09-03 11     24\n",
       "          2019-09-03 12     41\n",
       "          2019-09-03 13     59\n",
       "          2019-09-03 14     56\n",
       "          2019-09-03 15     44\n",
       "          2019-09-03 16     85\n",
       "          2019-09-03 17     75\n",
       "          2019-09-03 18     87\n",
       "          2019-09-03 19     87\n",
       "          2019-09-03 20     67\n",
       "          2019-09-03 21     26\n",
       "          2019-09-04 07     53\n",
       "          2019-09-04 08    110\n",
       "          2019-09-04 09     85\n",
       "          2019-09-04 10     53\n",
       "          2019-09-04 11     63\n",
       "          2019-09-04 12     39\n",
       "          2019-09-04 13     75\n",
       "          2019-09-04 14     70\n",
       "          2019-09-04 15     38\n",
       "          2019-09-04 16     72\n",
       "          2019-09-04 17     60\n",
       "          2019-09-04 18     68\n",
       "          2019-09-04 19    113\n",
       "          2019-09-04 20     48\n",
       "          2019-09-04 21     29\n",
       "          2019-09-05 07     52\n",
       "          2019-09-05 08     90\n",
       "          2019-09-05 09     64\n",
       "          2019-09-05 10     62\n",
       "          2019-09-05 11     35\n",
       "          2019-09-05 12     48\n",
       "          2019-09-05 13     60\n",
       "          2019-09-05 14     69\n",
       "          2019-09-05 15     42\n",
       "          2019-09-05 16     76\n",
       "          2019-09-05 17     73\n",
       "          2019-09-05 18     78\n",
       "          2019-09-05 19    118\n",
       "          2019-09-05 20     63\n",
       "          2019-09-05 21     35\n",
       "          2019-09-06 07     49\n",
       "          2019-09-06 08     92\n",
       "          2019-09-06 09     44\n",
       "          2019-09-06 10     66\n",
       "          2019-09-06 11     52\n",
       "          2019-09-06 12     42\n",
       "          2019-09-06 13     70\n",
       "          2019-09-06 14     66\n",
       "          2019-09-06 15     42\n",
       "          2019-09-06 16     55\n",
       "          2019-09-06 17     73\n",
       "          2019-09-06 18    105\n",
       "          2019-09-06 19     84\n",
       "          2019-09-06 20     53\n",
       "          2019-09-06 21     39\n",
       "drinks    2019-09-02 07     60\n",
       "          2019-09-02 08     65\n",
       "          2019-09-02 09     57\n",
       "          2019-09-02 10     35\n",
       "          2019-09-02 11     24\n",
       "          2019-09-02 12     37\n",
       "          2019-09-02 13     50\n",
       "          2019-09-02 14     43\n",
       "          2019-09-02 15     48\n",
       "          2019-09-02 16     54\n",
       "          2019-09-02 17     69\n",
       "          2019-09-02 18     81\n",
       "          2019-09-02 19     65\n",
       "          2019-09-02 20     81\n",
       "          2019-09-02 21     28\n",
       "          2019-09-03 07     70\n",
       "          2019-09-03 08     69\n",
       "          2019-09-03 09     37\n",
       "          2019-09-03 10     39\n",
       "          2019-09-03 11     16\n",
       "          2019-09-03 12     25\n",
       "          2019-09-03 13     39\n",
       "          2019-09-03 14     52\n",
       "          2019-09-03 15     27\n",
       "          2019-09-03 16     54\n",
       "          2019-09-03 17     45\n",
       "          2019-09-03 18     62\n",
       "          2019-09-03 19     85\n",
       "          2019-09-03 20     50\n",
       "          2019-09-03 21     43\n",
       "          2019-09-04 07     47\n",
       "          2019-09-04 08     83\n",
       "          2019-09-04 09     57\n",
       "          2019-09-04 10     41\n",
       "          2019-09-04 11     33\n",
       "          2019-09-04 12     45\n",
       "          2019-09-04 13     50\n",
       "          2019-09-04 14     44\n",
       "          2019-09-04 15     30\n",
       "          2019-09-04 16     44\n",
       "          2019-09-04 17     39\n",
       "          2019-09-04 18     43\n",
       "          2019-09-04 19    127\n",
       "          2019-09-04 20     63\n",
       "          2019-09-04 21     29\n",
       "          2019-09-05 07     48\n",
       "          2019-09-05 08     59\n",
       "          2019-09-05 09     42\n",
       "          2019-09-05 10     38\n",
       "          2019-09-05 11     29\n",
       "          2019-09-05 12     29\n",
       "          2019-09-05 13     48\n",
       "          2019-09-05 14     39\n",
       "          2019-09-05 15     43\n",
       "          2019-09-05 16     63\n",
       "          2019-09-05 17     65\n",
       "          2019-09-05 18     82\n",
       "          2019-09-05 19     88\n",
       "          2019-09-05 20     57\n",
       "          2019-09-05 21     46\n",
       "          2019-09-06 07     53\n",
       "          2019-09-06 08     72\n",
       "          2019-09-06 09     38\n",
       "          2019-09-06 10     45\n",
       "          2019-09-06 11     48\n",
       "          2019-09-06 12     52\n",
       "          2019-09-06 13     51\n",
       "          2019-09-06 14     51\n",
       "          2019-09-06 15     42\n",
       "          2019-09-06 16     57\n",
       "          2019-09-06 17     76\n",
       "          2019-09-06 18     93\n",
       "          2019-09-06 19     76\n",
       "          2019-09-06 20     56\n",
       "          2019-09-06 21     34\n",
       "fruit     2019-09-02 07     54\n",
       "          2019-09-02 08     68\n",
       "          2019-09-02 09     76\n",
       "          2019-09-02 10     47\n",
       "          2019-09-02 11     41\n",
       "          2019-09-02 12     54\n",
       "          2019-09-02 13     95\n",
       "          2019-09-02 14     64\n",
       "          2019-09-02 15     79\n",
       "          2019-09-02 16     66\n",
       "          2019-09-02 17     90\n",
       "          2019-09-02 18     83\n",
       "          2019-09-02 19     87\n",
       "          2019-09-02 20     68\n",
       "          2019-09-02 21     33\n",
       "          2019-09-03 07     63\n",
       "          2019-09-03 08     93\n",
       "          2019-09-03 09     60\n",
       "          2019-09-03 10     49\n",
       "          2019-09-03 11     31\n",
       "          2019-09-03 12     37\n",
       "          2019-09-03 13     87\n",
       "          2019-09-03 14     65\n",
       "          2019-09-03 15     59\n",
       "          2019-09-03 16     88\n",
       "          2019-09-03 17     77\n",
       "          2019-09-03 18    103\n",
       "          2019-09-03 19     76\n",
       "          2019-09-03 20     52\n",
       "          2019-09-03 21     36\n",
       "          2019-09-04 07     49\n",
       "          2019-09-04 08    107\n",
       "          2019-09-04 09     76\n",
       "          2019-09-04 10     52\n",
       "          2019-09-04 11     58\n",
       "          2019-09-04 12     62\n",
       "          2019-09-04 13     79\n",
       "          2019-09-04 14     75\n",
       "          2019-09-04 15     63\n",
       "          2019-09-04 16     60\n",
       "          2019-09-04 17     70\n",
       "          2019-09-04 18     65\n",
       "          2019-09-04 19    140\n",
       "          2019-09-04 20     59\n",
       "          2019-09-04 21     28\n",
       "          2019-09-05 07     69\n",
       "          2019-09-05 08     95\n",
       "          2019-09-05 09     70\n",
       "          2019-09-05 10     64\n",
       "          2019-09-05 11     51\n",
       "          2019-09-05 12     44\n",
       "          2019-09-05 13     60\n",
       "          2019-09-05 14     61\n",
       "          2019-09-05 15     57\n",
       "          2019-09-05 16     71\n",
       "          2019-09-05 17     86\n",
       "          2019-09-05 18     98\n",
       "          2019-09-05 19    111\n",
       "          2019-09-05 20     64\n",
       "          2019-09-05 21     40\n",
       "          2019-09-06 07     64\n",
       "          2019-09-06 08    105\n",
       "          2019-09-06 09     54\n",
       "          2019-09-06 10     58\n",
       "          2019-09-06 11     63\n",
       "          2019-09-06 12     50\n",
       "          2019-09-06 13     68\n",
       "          2019-09-06 14     80\n",
       "          2019-09-06 15     58\n",
       "          2019-09-06 16     68\n",
       "          2019-09-06 17     87\n",
       "          2019-09-06 18    104\n",
       "          2019-09-06 19     93\n",
       "          2019-09-06 20     69\n",
       "          2019-09-06 21     36\n",
       "spices    2019-09-02 07     52\n",
       "          2019-09-02 08     51\n",
       "          2019-09-02 09     40\n",
       "          2019-09-02 10     52\n",
       "          2019-09-02 11     33\n",
       "          2019-09-02 12     46\n",
       "          2019-09-02 13     71\n",
       "          2019-09-02 14     50\n",
       "          2019-09-02 15     54\n",
       "          2019-09-02 16     52\n",
       "          2019-09-02 17     50\n",
       "          2019-09-02 18     70\n",
       "          2019-09-02 19     59\n",
       "          2019-09-02 20     52\n",
       "          2019-09-02 21     18\n",
       "          2019-09-03 07     42\n",
       "          2019-09-03 08     77\n",
       "          2019-09-03 09     40\n",
       "          2019-09-03 10     43\n",
       "          2019-09-03 11     15\n",
       "          2019-09-03 12     36\n",
       "          2019-09-03 13     41\n",
       "          2019-09-03 14     60\n",
       "          2019-09-03 15     21\n",
       "          2019-09-03 16     60\n",
       "          2019-09-03 17     60\n",
       "          2019-09-03 18     58\n",
       "          2019-09-03 19     62\n",
       "          2019-09-03 20     52\n",
       "          2019-09-03 21     27\n",
       "          2019-09-04 07     45\n",
       "          2019-09-04 08     82\n",
       "          2019-09-04 09     49\n",
       "          2019-09-04 10     52\n",
       "          2019-09-04 11     45\n",
       "          2019-09-04 12     36\n",
       "          2019-09-04 13     52\n",
       "          2019-09-04 14     50\n",
       "          2019-09-04 15     36\n",
       "          2019-09-04 16     40\n",
       "          2019-09-04 17     38\n",
       "          2019-09-04 18     46\n",
       "          2019-09-04 19    102\n",
       "          2019-09-04 20     35\n",
       "          2019-09-04 21     22\n",
       "          2019-09-05 07     47\n",
       "          2019-09-05 08     64\n",
       "          2019-09-05 09     42\n",
       "          2019-09-05 10     48\n",
       "          2019-09-05 11     39\n",
       "          2019-09-05 12     41\n",
       "          2019-09-05 13     49\n",
       "          2019-09-05 14     47\n",
       "          2019-09-05 15     38\n",
       "          2019-09-05 16     56\n",
       "          2019-09-05 17     56\n",
       "          2019-09-05 18     74\n",
       "          2019-09-05 19    101\n",
       "          2019-09-05 20     53\n",
       "          2019-09-05 21     35\n",
       "          2019-09-06 07     52\n",
       "          2019-09-06 08     68\n",
       "          2019-09-06 09     36\n",
       "          2019-09-06 10     47\n",
       "          2019-09-06 11     33\n",
       "          2019-09-06 12     49\n",
       "          2019-09-06 13     60\n",
       "          2019-09-06 14     54\n",
       "          2019-09-06 15     35\n",
       "          2019-09-06 16     54\n",
       "          2019-09-06 17     65\n",
       "          2019-09-06 18     98\n",
       "          2019-09-06 19     65\n",
       "          2019-09-06 20     54\n",
       "          2019-09-06 21     20\n",
       "Name: customer_no, dtype: int64"
      ]
     },
     "execution_count": 40,
     "metadata": {},
     "output_type": "execute_result"
    }
   ],
   "source": [
    "# accumulative number of customers in each section for each hour\n",
    "\n",
    "df.groupby(['location', 'date_hour']).count()['customer_no']"
   ]
  },
  {
   "cell_type": "code",
   "execution_count": 33,
   "id": "ddbe9144",
   "metadata": {},
   "outputs": [
    {
     "data": {
      "application/vnd.plotly.v1+json": {
       "config": {
        "plotlyServerURL": "https://plot.ly"
       },
       "data": [
        {
         "hovertemplate": "variable=customer_no<br>Date=%{x}<br>No. of customers=%{y}<extra></extra>",
         "legendgroup": "customer_no",
         "line": {
          "color": "#636efa",
          "dash": "solid"
         },
         "marker": {
          "symbol": "circle"
         },
         "mode": "lines",
         "name": "customer_no",
         "orientation": "v",
         "showlegend": true,
         "type": "scatter",
         "x": [
          "2019-09-02 07",
          "2019-09-02 08",
          "2019-09-02 09",
          "2019-09-02 10",
          "2019-09-02 11",
          "2019-09-02 12",
          "2019-09-02 13",
          "2019-09-02 14",
          "2019-09-02 15",
          "2019-09-02 16",
          "2019-09-02 17",
          "2019-09-02 18",
          "2019-09-02 19",
          "2019-09-02 20",
          "2019-09-02 21",
          "2019-09-03 07",
          "2019-09-03 08",
          "2019-09-03 09",
          "2019-09-03 10",
          "2019-09-03 11",
          "2019-09-03 12",
          "2019-09-03 13",
          "2019-09-03 14",
          "2019-09-03 15",
          "2019-09-03 16",
          "2019-09-03 17",
          "2019-09-03 18",
          "2019-09-03 19",
          "2019-09-03 20",
          "2019-09-03 21",
          "2019-09-04 07",
          "2019-09-04 08",
          "2019-09-04 09",
          "2019-09-04 10",
          "2019-09-04 11",
          "2019-09-04 12",
          "2019-09-04 13",
          "2019-09-04 14",
          "2019-09-04 15",
          "2019-09-04 16",
          "2019-09-04 17",
          "2019-09-04 18",
          "2019-09-04 19",
          "2019-09-04 20",
          "2019-09-04 21",
          "2019-09-05 07",
          "2019-09-05 08",
          "2019-09-05 09",
          "2019-09-05 10",
          "2019-09-05 11",
          "2019-09-05 12",
          "2019-09-05 13",
          "2019-09-05 14",
          "2019-09-05 15",
          "2019-09-05 16",
          "2019-09-05 17",
          "2019-09-05 18",
          "2019-09-05 19",
          "2019-09-05 20",
          "2019-09-05 21",
          "2019-09-06 07",
          "2019-09-06 08",
          "2019-09-06 09",
          "2019-09-06 10",
          "2019-09-06 11",
          "2019-09-06 12",
          "2019-09-06 13",
          "2019-09-06 14",
          "2019-09-06 15",
          "2019-09-06 16",
          "2019-09-06 17",
          "2019-09-06 18",
          "2019-09-06 19",
          "2019-09-06 20",
          "2019-09-06 21"
         ],
         "xaxis": "x",
         "y": [
          92,
          112,
          85,
          90,
          55,
          73,
          120,
          90,
          94,
          86,
          122,
          128,
          129,
          109,
          52,
          91,
          129,
          77,
          81,
          47,
          60,
          104,
          110,
          72,
          118,
          109,
          134,
          127,
          99,
          62,
          85,
          165,
          106,
          85,
          88,
          89,
          102,
          105,
          79,
          94,
          98,
          97,
          192,
          85,
          56,
          99,
          139,
          105,
          91,
          73,
          72,
          80,
          83,
          86,
          118,
          112,
          123,
          172,
          96,
          83,
          87,
          132,
          82,
          80,
          79,
          90,
          108,
          108,
          81,
          102,
          115,
          148,
          135,
          103,
          52
         ],
         "yaxis": "y"
        }
       ],
       "layout": {
        "legend": {
         "title": {
          "text": "variable"
         },
         "tracegroupgap": 0
        },
        "margin": {
         "t": 60
        },
        "showlegend": false,
        "template": {
         "data": {
          "bar": [
           {
            "error_x": {
             "color": "#2a3f5f"
            },
            "error_y": {
             "color": "#2a3f5f"
            },
            "marker": {
             "line": {
              "color": "#E5ECF6",
              "width": 0.5
             },
             "pattern": {
              "fillmode": "overlay",
              "size": 10,
              "solidity": 0.2
             }
            },
            "type": "bar"
           }
          ],
          "barpolar": [
           {
            "marker": {
             "line": {
              "color": "#E5ECF6",
              "width": 0.5
             },
             "pattern": {
              "fillmode": "overlay",
              "size": 10,
              "solidity": 0.2
             }
            },
            "type": "barpolar"
           }
          ],
          "carpet": [
           {
            "aaxis": {
             "endlinecolor": "#2a3f5f",
             "gridcolor": "white",
             "linecolor": "white",
             "minorgridcolor": "white",
             "startlinecolor": "#2a3f5f"
            },
            "baxis": {
             "endlinecolor": "#2a3f5f",
             "gridcolor": "white",
             "linecolor": "white",
             "minorgridcolor": "white",
             "startlinecolor": "#2a3f5f"
            },
            "type": "carpet"
           }
          ],
          "choropleth": [
           {
            "colorbar": {
             "outlinewidth": 0,
             "ticks": ""
            },
            "type": "choropleth"
           }
          ],
          "contour": [
           {
            "colorbar": {
             "outlinewidth": 0,
             "ticks": ""
            },
            "colorscale": [
             [
              0,
              "#0d0887"
             ],
             [
              0.1111111111111111,
              "#46039f"
             ],
             [
              0.2222222222222222,
              "#7201a8"
             ],
             [
              0.3333333333333333,
              "#9c179e"
             ],
             [
              0.4444444444444444,
              "#bd3786"
             ],
             [
              0.5555555555555556,
              "#d8576b"
             ],
             [
              0.6666666666666666,
              "#ed7953"
             ],
             [
              0.7777777777777778,
              "#fb9f3a"
             ],
             [
              0.8888888888888888,
              "#fdca26"
             ],
             [
              1,
              "#f0f921"
             ]
            ],
            "type": "contour"
           }
          ],
          "contourcarpet": [
           {
            "colorbar": {
             "outlinewidth": 0,
             "ticks": ""
            },
            "type": "contourcarpet"
           }
          ],
          "heatmap": [
           {
            "colorbar": {
             "outlinewidth": 0,
             "ticks": ""
            },
            "colorscale": [
             [
              0,
              "#0d0887"
             ],
             [
              0.1111111111111111,
              "#46039f"
             ],
             [
              0.2222222222222222,
              "#7201a8"
             ],
             [
              0.3333333333333333,
              "#9c179e"
             ],
             [
              0.4444444444444444,
              "#bd3786"
             ],
             [
              0.5555555555555556,
              "#d8576b"
             ],
             [
              0.6666666666666666,
              "#ed7953"
             ],
             [
              0.7777777777777778,
              "#fb9f3a"
             ],
             [
              0.8888888888888888,
              "#fdca26"
             ],
             [
              1,
              "#f0f921"
             ]
            ],
            "type": "heatmap"
           }
          ],
          "heatmapgl": [
           {
            "colorbar": {
             "outlinewidth": 0,
             "ticks": ""
            },
            "colorscale": [
             [
              0,
              "#0d0887"
             ],
             [
              0.1111111111111111,
              "#46039f"
             ],
             [
              0.2222222222222222,
              "#7201a8"
             ],
             [
              0.3333333333333333,
              "#9c179e"
             ],
             [
              0.4444444444444444,
              "#bd3786"
             ],
             [
              0.5555555555555556,
              "#d8576b"
             ],
             [
              0.6666666666666666,
              "#ed7953"
             ],
             [
              0.7777777777777778,
              "#fb9f3a"
             ],
             [
              0.8888888888888888,
              "#fdca26"
             ],
             [
              1,
              "#f0f921"
             ]
            ],
            "type": "heatmapgl"
           }
          ],
          "histogram": [
           {
            "marker": {
             "pattern": {
              "fillmode": "overlay",
              "size": 10,
              "solidity": 0.2
             }
            },
            "type": "histogram"
           }
          ],
          "histogram2d": [
           {
            "colorbar": {
             "outlinewidth": 0,
             "ticks": ""
            },
            "colorscale": [
             [
              0,
              "#0d0887"
             ],
             [
              0.1111111111111111,
              "#46039f"
             ],
             [
              0.2222222222222222,
              "#7201a8"
             ],
             [
              0.3333333333333333,
              "#9c179e"
             ],
             [
              0.4444444444444444,
              "#bd3786"
             ],
             [
              0.5555555555555556,
              "#d8576b"
             ],
             [
              0.6666666666666666,
              "#ed7953"
             ],
             [
              0.7777777777777778,
              "#fb9f3a"
             ],
             [
              0.8888888888888888,
              "#fdca26"
             ],
             [
              1,
              "#f0f921"
             ]
            ],
            "type": "histogram2d"
           }
          ],
          "histogram2dcontour": [
           {
            "colorbar": {
             "outlinewidth": 0,
             "ticks": ""
            },
            "colorscale": [
             [
              0,
              "#0d0887"
             ],
             [
              0.1111111111111111,
              "#46039f"
             ],
             [
              0.2222222222222222,
              "#7201a8"
             ],
             [
              0.3333333333333333,
              "#9c179e"
             ],
             [
              0.4444444444444444,
              "#bd3786"
             ],
             [
              0.5555555555555556,
              "#d8576b"
             ],
             [
              0.6666666666666666,
              "#ed7953"
             ],
             [
              0.7777777777777778,
              "#fb9f3a"
             ],
             [
              0.8888888888888888,
              "#fdca26"
             ],
             [
              1,
              "#f0f921"
             ]
            ],
            "type": "histogram2dcontour"
           }
          ],
          "mesh3d": [
           {
            "colorbar": {
             "outlinewidth": 0,
             "ticks": ""
            },
            "type": "mesh3d"
           }
          ],
          "parcoords": [
           {
            "line": {
             "colorbar": {
              "outlinewidth": 0,
              "ticks": ""
             }
            },
            "type": "parcoords"
           }
          ],
          "pie": [
           {
            "automargin": true,
            "type": "pie"
           }
          ],
          "scatter": [
           {
            "marker": {
             "colorbar": {
              "outlinewidth": 0,
              "ticks": ""
             }
            },
            "type": "scatter"
           }
          ],
          "scatter3d": [
           {
            "line": {
             "colorbar": {
              "outlinewidth": 0,
              "ticks": ""
             }
            },
            "marker": {
             "colorbar": {
              "outlinewidth": 0,
              "ticks": ""
             }
            },
            "type": "scatter3d"
           }
          ],
          "scattercarpet": [
           {
            "marker": {
             "colorbar": {
              "outlinewidth": 0,
              "ticks": ""
             }
            },
            "type": "scattercarpet"
           }
          ],
          "scattergeo": [
           {
            "marker": {
             "colorbar": {
              "outlinewidth": 0,
              "ticks": ""
             }
            },
            "type": "scattergeo"
           }
          ],
          "scattergl": [
           {
            "marker": {
             "colorbar": {
              "outlinewidth": 0,
              "ticks": ""
             }
            },
            "type": "scattergl"
           }
          ],
          "scattermapbox": [
           {
            "marker": {
             "colorbar": {
              "outlinewidth": 0,
              "ticks": ""
             }
            },
            "type": "scattermapbox"
           }
          ],
          "scatterpolar": [
           {
            "marker": {
             "colorbar": {
              "outlinewidth": 0,
              "ticks": ""
             }
            },
            "type": "scatterpolar"
           }
          ],
          "scatterpolargl": [
           {
            "marker": {
             "colorbar": {
              "outlinewidth": 0,
              "ticks": ""
             }
            },
            "type": "scatterpolargl"
           }
          ],
          "scatterternary": [
           {
            "marker": {
             "colorbar": {
              "outlinewidth": 0,
              "ticks": ""
             }
            },
            "type": "scatterternary"
           }
          ],
          "surface": [
           {
            "colorbar": {
             "outlinewidth": 0,
             "ticks": ""
            },
            "colorscale": [
             [
              0,
              "#0d0887"
             ],
             [
              0.1111111111111111,
              "#46039f"
             ],
             [
              0.2222222222222222,
              "#7201a8"
             ],
             [
              0.3333333333333333,
              "#9c179e"
             ],
             [
              0.4444444444444444,
              "#bd3786"
             ],
             [
              0.5555555555555556,
              "#d8576b"
             ],
             [
              0.6666666666666666,
              "#ed7953"
             ],
             [
              0.7777777777777778,
              "#fb9f3a"
             ],
             [
              0.8888888888888888,
              "#fdca26"
             ],
             [
              1,
              "#f0f921"
             ]
            ],
            "type": "surface"
           }
          ],
          "table": [
           {
            "cells": {
             "fill": {
              "color": "#EBF0F8"
             },
             "line": {
              "color": "white"
             }
            },
            "header": {
             "fill": {
              "color": "#C8D4E3"
             },
             "line": {
              "color": "white"
             }
            },
            "type": "table"
           }
          ]
         },
         "layout": {
          "annotationdefaults": {
           "arrowcolor": "#2a3f5f",
           "arrowhead": 0,
           "arrowwidth": 1
          },
          "autotypenumbers": "strict",
          "coloraxis": {
           "colorbar": {
            "outlinewidth": 0,
            "ticks": ""
           }
          },
          "colorscale": {
           "diverging": [
            [
             0,
             "#8e0152"
            ],
            [
             0.1,
             "#c51b7d"
            ],
            [
             0.2,
             "#de77ae"
            ],
            [
             0.3,
             "#f1b6da"
            ],
            [
             0.4,
             "#fde0ef"
            ],
            [
             0.5,
             "#f7f7f7"
            ],
            [
             0.6,
             "#e6f5d0"
            ],
            [
             0.7,
             "#b8e186"
            ],
            [
             0.8,
             "#7fbc41"
            ],
            [
             0.9,
             "#4d9221"
            ],
            [
             1,
             "#276419"
            ]
           ],
           "sequential": [
            [
             0,
             "#0d0887"
            ],
            [
             0.1111111111111111,
             "#46039f"
            ],
            [
             0.2222222222222222,
             "#7201a8"
            ],
            [
             0.3333333333333333,
             "#9c179e"
            ],
            [
             0.4444444444444444,
             "#bd3786"
            ],
            [
             0.5555555555555556,
             "#d8576b"
            ],
            [
             0.6666666666666666,
             "#ed7953"
            ],
            [
             0.7777777777777778,
             "#fb9f3a"
            ],
            [
             0.8888888888888888,
             "#fdca26"
            ],
            [
             1,
             "#f0f921"
            ]
           ],
           "sequentialminus": [
            [
             0,
             "#0d0887"
            ],
            [
             0.1111111111111111,
             "#46039f"
            ],
            [
             0.2222222222222222,
             "#7201a8"
            ],
            [
             0.3333333333333333,
             "#9c179e"
            ],
            [
             0.4444444444444444,
             "#bd3786"
            ],
            [
             0.5555555555555556,
             "#d8576b"
            ],
            [
             0.6666666666666666,
             "#ed7953"
            ],
            [
             0.7777777777777778,
             "#fb9f3a"
            ],
            [
             0.8888888888888888,
             "#fdca26"
            ],
            [
             1,
             "#f0f921"
            ]
           ]
          },
          "colorway": [
           "#636efa",
           "#EF553B",
           "#00cc96",
           "#ab63fa",
           "#FFA15A",
           "#19d3f3",
           "#FF6692",
           "#B6E880",
           "#FF97FF",
           "#FECB52"
          ],
          "font": {
           "color": "#2a3f5f"
          },
          "geo": {
           "bgcolor": "white",
           "lakecolor": "white",
           "landcolor": "#E5ECF6",
           "showlakes": true,
           "showland": true,
           "subunitcolor": "white"
          },
          "hoverlabel": {
           "align": "left"
          },
          "hovermode": "closest",
          "mapbox": {
           "style": "light"
          },
          "paper_bgcolor": "white",
          "plot_bgcolor": "#E5ECF6",
          "polar": {
           "angularaxis": {
            "gridcolor": "white",
            "linecolor": "white",
            "ticks": ""
           },
           "bgcolor": "#E5ECF6",
           "radialaxis": {
            "gridcolor": "white",
            "linecolor": "white",
            "ticks": ""
           }
          },
          "scene": {
           "xaxis": {
            "backgroundcolor": "#E5ECF6",
            "gridcolor": "white",
            "gridwidth": 2,
            "linecolor": "white",
            "showbackground": true,
            "ticks": "",
            "zerolinecolor": "white"
           },
           "yaxis": {
            "backgroundcolor": "#E5ECF6",
            "gridcolor": "white",
            "gridwidth": 2,
            "linecolor": "white",
            "showbackground": true,
            "ticks": "",
            "zerolinecolor": "white"
           },
           "zaxis": {
            "backgroundcolor": "#E5ECF6",
            "gridcolor": "white",
            "gridwidth": 2,
            "linecolor": "white",
            "showbackground": true,
            "ticks": "",
            "zerolinecolor": "white"
           }
          },
          "shapedefaults": {
           "line": {
            "color": "#2a3f5f"
           }
          },
          "ternary": {
           "aaxis": {
            "gridcolor": "white",
            "linecolor": "white",
            "ticks": ""
           },
           "baxis": {
            "gridcolor": "white",
            "linecolor": "white",
            "ticks": ""
           },
           "bgcolor": "#E5ECF6",
           "caxis": {
            "gridcolor": "white",
            "linecolor": "white",
            "ticks": ""
           }
          },
          "title": {
           "x": 0.05
          },
          "xaxis": {
           "automargin": true,
           "gridcolor": "white",
           "linecolor": "white",
           "ticks": "",
           "title": {
            "standoff": 15
           },
           "zerolinecolor": "white",
           "zerolinewidth": 2
          },
          "yaxis": {
           "automargin": true,
           "gridcolor": "white",
           "linecolor": "white",
           "ticks": "",
           "title": {
            "standoff": 15
           },
           "zerolinecolor": "white",
           "zerolinewidth": 2
          }
         }
        },
        "xaxis": {
         "anchor": "y",
         "domain": [
          0,
          1
         ],
         "title": {
          "text": "Date"
         }
        },
        "yaxis": {
         "anchor": "x",
         "domain": [
          0,
          1
         ],
         "title": {
          "text": "No. of customers"
         }
        }
       }
      },
      "text/html": [
       "<div>                            <div id=\"ed1a7a1d-d091-4020-8d57-bcbadd76ee20\" class=\"plotly-graph-div\" style=\"height:525px; width:100%;\"></div>            <script type=\"text/javascript\">                require([\"plotly\"], function(Plotly) {                    window.PLOTLYENV=window.PLOTLYENV || {};                                    if (document.getElementById(\"ed1a7a1d-d091-4020-8d57-bcbadd76ee20\")) {                    Plotly.newPlot(                        \"ed1a7a1d-d091-4020-8d57-bcbadd76ee20\",                        [{\"hovertemplate\":\"variable=customer_no<br>Date=%{x}<br>No. of customers=%{y}<extra></extra>\",\"legendgroup\":\"customer_no\",\"line\":{\"color\":\"#636efa\",\"dash\":\"solid\"},\"marker\":{\"symbol\":\"circle\"},\"mode\":\"lines\",\"name\":\"customer_no\",\"orientation\":\"v\",\"showlegend\":true,\"x\":[\"2019-09-02 07\",\"2019-09-02 08\",\"2019-09-02 09\",\"2019-09-02 10\",\"2019-09-02 11\",\"2019-09-02 12\",\"2019-09-02 13\",\"2019-09-02 14\",\"2019-09-02 15\",\"2019-09-02 16\",\"2019-09-02 17\",\"2019-09-02 18\",\"2019-09-02 19\",\"2019-09-02 20\",\"2019-09-02 21\",\"2019-09-03 07\",\"2019-09-03 08\",\"2019-09-03 09\",\"2019-09-03 10\",\"2019-09-03 11\",\"2019-09-03 12\",\"2019-09-03 13\",\"2019-09-03 14\",\"2019-09-03 15\",\"2019-09-03 16\",\"2019-09-03 17\",\"2019-09-03 18\",\"2019-09-03 19\",\"2019-09-03 20\",\"2019-09-03 21\",\"2019-09-04 07\",\"2019-09-04 08\",\"2019-09-04 09\",\"2019-09-04 10\",\"2019-09-04 11\",\"2019-09-04 12\",\"2019-09-04 13\",\"2019-09-04 14\",\"2019-09-04 15\",\"2019-09-04 16\",\"2019-09-04 17\",\"2019-09-04 18\",\"2019-09-04 19\",\"2019-09-04 20\",\"2019-09-04 21\",\"2019-09-05 07\",\"2019-09-05 08\",\"2019-09-05 09\",\"2019-09-05 10\",\"2019-09-05 11\",\"2019-09-05 12\",\"2019-09-05 13\",\"2019-09-05 14\",\"2019-09-05 15\",\"2019-09-05 16\",\"2019-09-05 17\",\"2019-09-05 18\",\"2019-09-05 19\",\"2019-09-05 20\",\"2019-09-05 21\",\"2019-09-06 07\",\"2019-09-06 08\",\"2019-09-06 09\",\"2019-09-06 10\",\"2019-09-06 11\",\"2019-09-06 12\",\"2019-09-06 13\",\"2019-09-06 14\",\"2019-09-06 15\",\"2019-09-06 16\",\"2019-09-06 17\",\"2019-09-06 18\",\"2019-09-06 19\",\"2019-09-06 20\",\"2019-09-06 21\"],\"xaxis\":\"x\",\"y\":[92,112,85,90,55,73,120,90,94,86,122,128,129,109,52,91,129,77,81,47,60,104,110,72,118,109,134,127,99,62,85,165,106,85,88,89,102,105,79,94,98,97,192,85,56,99,139,105,91,73,72,80,83,86,118,112,123,172,96,83,87,132,82,80,79,90,108,108,81,102,115,148,135,103,52],\"yaxis\":\"y\",\"type\":\"scatter\"}],                        {\"template\":{\"data\":{\"bar\":[{\"error_x\":{\"color\":\"#2a3f5f\"},\"error_y\":{\"color\":\"#2a3f5f\"},\"marker\":{\"line\":{\"color\":\"#E5ECF6\",\"width\":0.5},\"pattern\":{\"fillmode\":\"overlay\",\"size\":10,\"solidity\":0.2}},\"type\":\"bar\"}],\"barpolar\":[{\"marker\":{\"line\":{\"color\":\"#E5ECF6\",\"width\":0.5},\"pattern\":{\"fillmode\":\"overlay\",\"size\":10,\"solidity\":0.2}},\"type\":\"barpolar\"}],\"carpet\":[{\"aaxis\":{\"endlinecolor\":\"#2a3f5f\",\"gridcolor\":\"white\",\"linecolor\":\"white\",\"minorgridcolor\":\"white\",\"startlinecolor\":\"#2a3f5f\"},\"baxis\":{\"endlinecolor\":\"#2a3f5f\",\"gridcolor\":\"white\",\"linecolor\":\"white\",\"minorgridcolor\":\"white\",\"startlinecolor\":\"#2a3f5f\"},\"type\":\"carpet\"}],\"choropleth\":[{\"colorbar\":{\"outlinewidth\":0,\"ticks\":\"\"},\"type\":\"choropleth\"}],\"contour\":[{\"colorbar\":{\"outlinewidth\":0,\"ticks\":\"\"},\"colorscale\":[[0.0,\"#0d0887\"],[0.1111111111111111,\"#46039f\"],[0.2222222222222222,\"#7201a8\"],[0.3333333333333333,\"#9c179e\"],[0.4444444444444444,\"#bd3786\"],[0.5555555555555556,\"#d8576b\"],[0.6666666666666666,\"#ed7953\"],[0.7777777777777778,\"#fb9f3a\"],[0.8888888888888888,\"#fdca26\"],[1.0,\"#f0f921\"]],\"type\":\"contour\"}],\"contourcarpet\":[{\"colorbar\":{\"outlinewidth\":0,\"ticks\":\"\"},\"type\":\"contourcarpet\"}],\"heatmap\":[{\"colorbar\":{\"outlinewidth\":0,\"ticks\":\"\"},\"colorscale\":[[0.0,\"#0d0887\"],[0.1111111111111111,\"#46039f\"],[0.2222222222222222,\"#7201a8\"],[0.3333333333333333,\"#9c179e\"],[0.4444444444444444,\"#bd3786\"],[0.5555555555555556,\"#d8576b\"],[0.6666666666666666,\"#ed7953\"],[0.7777777777777778,\"#fb9f3a\"],[0.8888888888888888,\"#fdca26\"],[1.0,\"#f0f921\"]],\"type\":\"heatmap\"}],\"heatmapgl\":[{\"colorbar\":{\"outlinewidth\":0,\"ticks\":\"\"},\"colorscale\":[[0.0,\"#0d0887\"],[0.1111111111111111,\"#46039f\"],[0.2222222222222222,\"#7201a8\"],[0.3333333333333333,\"#9c179e\"],[0.4444444444444444,\"#bd3786\"],[0.5555555555555556,\"#d8576b\"],[0.6666666666666666,\"#ed7953\"],[0.7777777777777778,\"#fb9f3a\"],[0.8888888888888888,\"#fdca26\"],[1.0,\"#f0f921\"]],\"type\":\"heatmapgl\"}],\"histogram\":[{\"marker\":{\"pattern\":{\"fillmode\":\"overlay\",\"size\":10,\"solidity\":0.2}},\"type\":\"histogram\"}],\"histogram2d\":[{\"colorbar\":{\"outlinewidth\":0,\"ticks\":\"\"},\"colorscale\":[[0.0,\"#0d0887\"],[0.1111111111111111,\"#46039f\"],[0.2222222222222222,\"#7201a8\"],[0.3333333333333333,\"#9c179e\"],[0.4444444444444444,\"#bd3786\"],[0.5555555555555556,\"#d8576b\"],[0.6666666666666666,\"#ed7953\"],[0.7777777777777778,\"#fb9f3a\"],[0.8888888888888888,\"#fdca26\"],[1.0,\"#f0f921\"]],\"type\":\"histogram2d\"}],\"histogram2dcontour\":[{\"colorbar\":{\"outlinewidth\":0,\"ticks\":\"\"},\"colorscale\":[[0.0,\"#0d0887\"],[0.1111111111111111,\"#46039f\"],[0.2222222222222222,\"#7201a8\"],[0.3333333333333333,\"#9c179e\"],[0.4444444444444444,\"#bd3786\"],[0.5555555555555556,\"#d8576b\"],[0.6666666666666666,\"#ed7953\"],[0.7777777777777778,\"#fb9f3a\"],[0.8888888888888888,\"#fdca26\"],[1.0,\"#f0f921\"]],\"type\":\"histogram2dcontour\"}],\"mesh3d\":[{\"colorbar\":{\"outlinewidth\":0,\"ticks\":\"\"},\"type\":\"mesh3d\"}],\"parcoords\":[{\"line\":{\"colorbar\":{\"outlinewidth\":0,\"ticks\":\"\"}},\"type\":\"parcoords\"}],\"pie\":[{\"automargin\":true,\"type\":\"pie\"}],\"scatter\":[{\"marker\":{\"colorbar\":{\"outlinewidth\":0,\"ticks\":\"\"}},\"type\":\"scatter\"}],\"scatter3d\":[{\"line\":{\"colorbar\":{\"outlinewidth\":0,\"ticks\":\"\"}},\"marker\":{\"colorbar\":{\"outlinewidth\":0,\"ticks\":\"\"}},\"type\":\"scatter3d\"}],\"scattercarpet\":[{\"marker\":{\"colorbar\":{\"outlinewidth\":0,\"ticks\":\"\"}},\"type\":\"scattercarpet\"}],\"scattergeo\":[{\"marker\":{\"colorbar\":{\"outlinewidth\":0,\"ticks\":\"\"}},\"type\":\"scattergeo\"}],\"scattergl\":[{\"marker\":{\"colorbar\":{\"outlinewidth\":0,\"ticks\":\"\"}},\"type\":\"scattergl\"}],\"scattermapbox\":[{\"marker\":{\"colorbar\":{\"outlinewidth\":0,\"ticks\":\"\"}},\"type\":\"scattermapbox\"}],\"scatterpolar\":[{\"marker\":{\"colorbar\":{\"outlinewidth\":0,\"ticks\":\"\"}},\"type\":\"scatterpolar\"}],\"scatterpolargl\":[{\"marker\":{\"colorbar\":{\"outlinewidth\":0,\"ticks\":\"\"}},\"type\":\"scatterpolargl\"}],\"scatterternary\":[{\"marker\":{\"colorbar\":{\"outlinewidth\":0,\"ticks\":\"\"}},\"type\":\"scatterternary\"}],\"surface\":[{\"colorbar\":{\"outlinewidth\":0,\"ticks\":\"\"},\"colorscale\":[[0.0,\"#0d0887\"],[0.1111111111111111,\"#46039f\"],[0.2222222222222222,\"#7201a8\"],[0.3333333333333333,\"#9c179e\"],[0.4444444444444444,\"#bd3786\"],[0.5555555555555556,\"#d8576b\"],[0.6666666666666666,\"#ed7953\"],[0.7777777777777778,\"#fb9f3a\"],[0.8888888888888888,\"#fdca26\"],[1.0,\"#f0f921\"]],\"type\":\"surface\"}],\"table\":[{\"cells\":{\"fill\":{\"color\":\"#EBF0F8\"},\"line\":{\"color\":\"white\"}},\"header\":{\"fill\":{\"color\":\"#C8D4E3\"},\"line\":{\"color\":\"white\"}},\"type\":\"table\"}]},\"layout\":{\"annotationdefaults\":{\"arrowcolor\":\"#2a3f5f\",\"arrowhead\":0,\"arrowwidth\":1},\"autotypenumbers\":\"strict\",\"coloraxis\":{\"colorbar\":{\"outlinewidth\":0,\"ticks\":\"\"}},\"colorscale\":{\"diverging\":[[0,\"#8e0152\"],[0.1,\"#c51b7d\"],[0.2,\"#de77ae\"],[0.3,\"#f1b6da\"],[0.4,\"#fde0ef\"],[0.5,\"#f7f7f7\"],[0.6,\"#e6f5d0\"],[0.7,\"#b8e186\"],[0.8,\"#7fbc41\"],[0.9,\"#4d9221\"],[1,\"#276419\"]],\"sequential\":[[0.0,\"#0d0887\"],[0.1111111111111111,\"#46039f\"],[0.2222222222222222,\"#7201a8\"],[0.3333333333333333,\"#9c179e\"],[0.4444444444444444,\"#bd3786\"],[0.5555555555555556,\"#d8576b\"],[0.6666666666666666,\"#ed7953\"],[0.7777777777777778,\"#fb9f3a\"],[0.8888888888888888,\"#fdca26\"],[1.0,\"#f0f921\"]],\"sequentialminus\":[[0.0,\"#0d0887\"],[0.1111111111111111,\"#46039f\"],[0.2222222222222222,\"#7201a8\"],[0.3333333333333333,\"#9c179e\"],[0.4444444444444444,\"#bd3786\"],[0.5555555555555556,\"#d8576b\"],[0.6666666666666666,\"#ed7953\"],[0.7777777777777778,\"#fb9f3a\"],[0.8888888888888888,\"#fdca26\"],[1.0,\"#f0f921\"]]},\"colorway\":[\"#636efa\",\"#EF553B\",\"#00cc96\",\"#ab63fa\",\"#FFA15A\",\"#19d3f3\",\"#FF6692\",\"#B6E880\",\"#FF97FF\",\"#FECB52\"],\"font\":{\"color\":\"#2a3f5f\"},\"geo\":{\"bgcolor\":\"white\",\"lakecolor\":\"white\",\"landcolor\":\"#E5ECF6\",\"showlakes\":true,\"showland\":true,\"subunitcolor\":\"white\"},\"hoverlabel\":{\"align\":\"left\"},\"hovermode\":\"closest\",\"mapbox\":{\"style\":\"light\"},\"paper_bgcolor\":\"white\",\"plot_bgcolor\":\"#E5ECF6\",\"polar\":{\"angularaxis\":{\"gridcolor\":\"white\",\"linecolor\":\"white\",\"ticks\":\"\"},\"bgcolor\":\"#E5ECF6\",\"radialaxis\":{\"gridcolor\":\"white\",\"linecolor\":\"white\",\"ticks\":\"\"}},\"scene\":{\"xaxis\":{\"backgroundcolor\":\"#E5ECF6\",\"gridcolor\":\"white\",\"gridwidth\":2,\"linecolor\":\"white\",\"showbackground\":true,\"ticks\":\"\",\"zerolinecolor\":\"white\"},\"yaxis\":{\"backgroundcolor\":\"#E5ECF6\",\"gridcolor\":\"white\",\"gridwidth\":2,\"linecolor\":\"white\",\"showbackground\":true,\"ticks\":\"\",\"zerolinecolor\":\"white\"},\"zaxis\":{\"backgroundcolor\":\"#E5ECF6\",\"gridcolor\":\"white\",\"gridwidth\":2,\"linecolor\":\"white\",\"showbackground\":true,\"ticks\":\"\",\"zerolinecolor\":\"white\"}},\"shapedefaults\":{\"line\":{\"color\":\"#2a3f5f\"}},\"ternary\":{\"aaxis\":{\"gridcolor\":\"white\",\"linecolor\":\"white\",\"ticks\":\"\"},\"baxis\":{\"gridcolor\":\"white\",\"linecolor\":\"white\",\"ticks\":\"\"},\"bgcolor\":\"#E5ECF6\",\"caxis\":{\"gridcolor\":\"white\",\"linecolor\":\"white\",\"ticks\":\"\"}},\"title\":{\"x\":0.05},\"xaxis\":{\"automargin\":true,\"gridcolor\":\"white\",\"linecolor\":\"white\",\"ticks\":\"\",\"title\":{\"standoff\":15},\"zerolinecolor\":\"white\",\"zerolinewidth\":2},\"yaxis\":{\"automargin\":true,\"gridcolor\":\"white\",\"linecolor\":\"white\",\"ticks\":\"\",\"title\":{\"standoff\":15},\"zerolinecolor\":\"white\",\"zerolinewidth\":2}}},\"xaxis\":{\"anchor\":\"y\",\"domain\":[0.0,1.0],\"title\":{\"text\":\"Date\"}},\"yaxis\":{\"anchor\":\"x\",\"domain\":[0.0,1.0],\"title\":{\"text\":\"No. of customers\"}},\"legend\":{\"title\":{\"text\":\"variable\"},\"tracegroupgap\":0},\"margin\":{\"t\":60},\"showlegend\":false},                        {\"responsive\": true}                    ).then(function(){\n",
       "                            \n",
       "var gd = document.getElementById('ed1a7a1d-d091-4020-8d57-bcbadd76ee20');\n",
       "var x = new MutationObserver(function (mutations, observer) {{\n",
       "        var display = window.getComputedStyle(gd).display;\n",
       "        if (!display || display === 'none') {{\n",
       "            console.log([gd, 'removed!']);\n",
       "            Plotly.purge(gd);\n",
       "            observer.disconnect();\n",
       "        }}\n",
       "}});\n",
       "\n",
       "// Listen for the removal of the full notebook cells\n",
       "var notebookContainer = gd.closest('#notebook-container');\n",
       "if (notebookContainer) {{\n",
       "    x.observe(notebookContainer, {childList: true});\n",
       "}}\n",
       "\n",
       "// Listen for the clearing of the current output cell\n",
       "var outputEl = gd.closest('.output');\n",
       "if (outputEl) {{\n",
       "    x.observe(outputEl, {childList: true});\n",
       "}}\n",
       "\n",
       "                        })                };                });            </script>        </div>"
      ]
     },
     "metadata": {},
     "output_type": "display_data"
    }
   ],
   "source": [
    "# plot: numbers at the checkout for each hour\n",
    "\n",
    "out = df[df['location'] == 'checkout'].groupby(['date_hour']).count()['customer_no']\n",
    "fig = px.line(data_frame=out, labels={'date_hour':'Date', 'value':'No. of customers'})\n",
    "fig.layout.update(showlegend=False)\n",
    "fig.show()"
   ]
  },
  {
   "cell_type": "code",
   "execution_count": 37,
   "id": "f0674a0d",
   "metadata": {},
   "outputs": [
    {
     "data": {
      "text/plain": [
       "customer_no\n",
       "1       2\n",
       "2       2\n",
       "3       2\n",
       "4       2\n",
       "5       2\n",
       "       ..\n",
       "7441    1\n",
       "7442    2\n",
       "7443    2\n",
       "7444    1\n",
       "7445    1\n",
       "Name: timestamp, Length: 7445, dtype: int64"
      ]
     },
     "execution_count": 37,
     "metadata": {},
     "output_type": "execute_result"
    }
   ],
   "source": [
    "# time spent by each customer in the shop in minutes\n",
    "\n",
    "df.groupby('customer_no').count()['timestamp']"
   ]
  },
  {
   "cell_type": "code",
   "execution_count": 38,
   "id": "47798d25",
   "metadata": {
    "scrolled": true
   },
   "outputs": [
    {
     "data": {
      "text/plain": [
       "date_hour\n",
       "2019-09-02 07    [1, 2, 3, 4, 5, 6, 7, 8, 9, 10, 11, 12, 13, 14...\n",
       "2019-09-02 08    [98, 99, 101, 84, 86, 97, 102, 80, 95, 103, 10...\n",
       "2019-09-02 09    [167, 192, 203, 206, 208, 212, 215, 216, 199, ...\n",
       "2019-09-02 10    [288, 293, 294, 300, 301, 302, 303, 279, 286, ...\n",
       "2019-09-02 11    [361, 380, 382, 384, 385, 371, 386, 387, 388, ...\n",
       "                                       ...                        \n",
       "2019-09-06 17    [6883, 6885, 6886, 6891, 6892, 6893, 6882, 689...\n",
       "2019-09-06 18    [6978, 6990, 6999, 7000, 7004, 7006, 7007, 701...\n",
       "2019-09-06 19    [7142, 7149, 7152, 7154, 7162, 7141, 7156, 715...\n",
       "2019-09-06 20    [7277, 7279, 7293, 7297, 7298, 7299, 7300, 730...\n",
       "2019-09-06 21    [7370, 7387, 7389, 7391, 7393, 7394, 7383, 739...\n",
       "Name: customer_no, Length: 75, dtype: object"
      ]
     },
     "execution_count": 38,
     "metadata": {},
     "output_type": "execute_result"
    }
   ],
   "source": [
    "# total number of customers in shop for each hour\n",
    "\n",
    "df.groupby(['date_hour'])['customer_no'].unique()"
   ]
  },
  {
   "cell_type": "code",
   "execution_count": 39,
   "id": "d29c9174",
   "metadata": {
    "scrolled": false
   },
   "outputs": [
    {
     "data": {
      "text/plain": [
       "<AxesSubplot:xlabel='location'>"
      ]
     },
     "execution_count": 39,
     "metadata": {},
     "output_type": "execute_result"
    },
    {
     "data": {
      "image/png": "[encoded data removed]",
      "text/plain": [
       "<Figure size 432x288 with 1 Axes>"
      ]
     },
     "metadata": {
      "needs_background": "light"
     },
     "output_type": "display_data"
    }
   ],
   "source": [
    "# first section visited\n",
    "\n",
    "df.groupby(['customer_no']).first().groupby('location').count()['timestamp'].plot.bar()"
   ]
  },
  {
   "cell_type": "code",
   "execution_count": 40,
   "id": "74ba8223",
   "metadata": {},
   "outputs": [
    {
     "data": {
      "text/plain": [
       "<AxesSubplot:xlabel='location'>"
      ]
     },
     "execution_count": 40,
     "metadata": {},
     "output_type": "execute_result"
    },
    {
     "data": {
      "image/png": "[encoded data removed]",
      "text/plain": [
       "<Figure size 432x288 with 1 Axes>"
      ]
     },
     "metadata": {
      "needs_background": "light"
     },
     "output_type": "display_data"
    }
   ],
   "source": [
    "# following section visited\n",
    "\n",
    "df.sort_values(['customer_no', 'timestamp']).groupby('customer_no').nth[1:].groupby('location').count()['timestamp'].plot.bar()\n"
   ]
  },
  {
   "cell_type": "code",
   "execution_count": 42,
   "id": "e30348f0",
   "metadata": {
    "scrolled": false
   },
   "outputs": [
    {
     "data": {
      "text/html": [
       "<div>\n",
       "<style scoped>\n",
       "    .dataframe tbody tr th:only-of-type {\n",
       "        vertical-align: middle;\n",
       "    }\n",
       "\n",
       "    .dataframe tbody tr th {\n",
       "        vertical-align: top;\n",
       "    }\n",
       "\n",
       "    .dataframe thead th {\n",
       "        text-align: right;\n",
       "    }\n",
       "</style>\n",
       "<table border=\"1\" class=\"dataframe\">\n",
       "  <thead>\n",
       "    <tr style=\"text-align: right;\">\n",
       "      <th></th>\n",
       "      <th>location</th>\n",
       "      <th>revenue per minute</th>\n",
       "    </tr>\n",
       "  </thead>\n",
       "  <tbody>\n",
       "    <tr>\n",
       "      <th>0</th>\n",
       "      <td>fruit</td>\n",
       "      <td>4</td>\n",
       "    </tr>\n",
       "    <tr>\n",
       "      <th>1</th>\n",
       "      <td>spices</td>\n",
       "      <td>3</td>\n",
       "    </tr>\n",
       "    <tr>\n",
       "      <th>2</th>\n",
       "      <td>dairy</td>\n",
       "      <td>5</td>\n",
       "    </tr>\n",
       "    <tr>\n",
       "      <th>3</th>\n",
       "      <td>drinks</td>\n",
       "      <td>6</td>\n",
       "    </tr>\n",
       "  </tbody>\n",
       "</table>\n",
       "</div>"
      ],
      "text/plain": [
       "  location  revenue per minute\n",
       "0    fruit                   4\n",
       "1   spices                   3\n",
       "2    dairy                   5\n",
       "3   drinks                   6"
      ]
     },
     "execution_count": 42,
     "metadata": {},
     "output_type": "execute_result"
    }
   ],
   "source": [
    "# revenue per minute (given in course material)\n",
    "\n",
    "df_rev = pd.DataFrame({'location': ['fruit', 'spices', 'dairy', 'drinks'], 'revenue per minute': [4, 3, 5, 6]})\n",
    "df_rev"
   ]
  },
  {
   "cell_type": "code",
   "execution_count": 43,
   "id": "3257f5d7",
   "metadata": {},
   "outputs": [],
   "source": [
    "# merge respective revenue to each entry in df\n",
    "\n",
    "df = df.merge(right=df_rev, how='left', on='location')"
   ]
  },
  {
   "cell_type": "code",
   "execution_count": 44,
   "id": "bfddf307",
   "metadata": {
    "scrolled": false
   },
   "outputs": [
    {
     "data": {
      "text/plain": [
       "location\n",
       "checkout        0.0\n",
       "dairy       23395.0\n",
       "drinks      23430.0\n",
       "fruit       20488.0\n",
       "spices      11262.0\n",
       "Name: revenue per minute, dtype: float64"
      ]
     },
     "execution_count": 44,
     "metadata": {},
     "output_type": "execute_result"
    }
   ],
   "source": [
    "# find the most profitable section\n",
    "\n",
    "df.groupby('location')['revenue per minute'].sum()"
   ]
  },
  {
   "cell_type": "code",
   "execution_count": 46,
   "id": "7511f2f1",
   "metadata": {},
   "outputs": [
    {
     "data": {
      "text/html": [
       "<div>\n",
       "<style scoped>\n",
       "    .dataframe tbody tr th:only-of-type {\n",
       "        vertical-align: middle;\n",
       "    }\n",
       "\n",
       "    .dataframe tbody tr th {\n",
       "        vertical-align: top;\n",
       "    }\n",
       "\n",
       "    .dataframe thead th {\n",
       "        text-align: right;\n",
       "    }\n",
       "</style>\n",
       "<table border=\"1\" class=\"dataframe\">\n",
       "  <thead>\n",
       "    <tr style=\"text-align: right;\">\n",
       "      <th></th>\n",
       "      <th>timestamp</th>\n",
       "      <th>customer_no</th>\n",
       "      <th>location</th>\n",
       "      <th>date_hour</th>\n",
       "      <th>revenue per minute</th>\n",
       "    </tr>\n",
       "    <tr>\n",
       "      <th>last_loc</th>\n",
       "      <th></th>\n",
       "      <th></th>\n",
       "      <th></th>\n",
       "      <th></th>\n",
       "      <th></th>\n",
       "    </tr>\n",
       "  </thead>\n",
       "  <tbody>\n",
       "    <tr>\n",
       "      <th>checkout</th>\n",
       "      <td>24798</td>\n",
       "      <td>24798</td>\n",
       "      <td>24798</td>\n",
       "      <td>24798</td>\n",
       "      <td>17381</td>\n",
       "    </tr>\n",
       "    <tr>\n",
       "      <th>dairy</th>\n",
       "      <td>37</td>\n",
       "      <td>37</td>\n",
       "      <td>37</td>\n",
       "      <td>37</td>\n",
       "      <td>37</td>\n",
       "    </tr>\n",
       "    <tr>\n",
       "      <th>drinks</th>\n",
       "      <td>3</td>\n",
       "      <td>3</td>\n",
       "      <td>3</td>\n",
       "      <td>3</td>\n",
       "      <td>3</td>\n",
       "    </tr>\n",
       "    <tr>\n",
       "      <th>fruit</th>\n",
       "      <td>22</td>\n",
       "      <td>22</td>\n",
       "      <td>22</td>\n",
       "      <td>22</td>\n",
       "      <td>22</td>\n",
       "    </tr>\n",
       "    <tr>\n",
       "      <th>spices</th>\n",
       "      <td>17</td>\n",
       "      <td>17</td>\n",
       "      <td>17</td>\n",
       "      <td>17</td>\n",
       "      <td>17</td>\n",
       "    </tr>\n",
       "  </tbody>\n",
       "</table>\n",
       "</div>"
      ],
      "text/plain": [
       "          timestamp  customer_no  location  date_hour  revenue per minute\n",
       "last_loc                                                                 \n",
       "checkout      24798        24798     24798      24798               17381\n",
       "dairy            37           37        37         37                  37\n",
       "drinks            3            3         3          3                   3\n",
       "fruit            22           22        22         22                  22\n",
       "spices           17           17        17         17                  17"
      ]
     },
     "execution_count": 46,
     "metadata": {},
     "output_type": "execute_result"
    }
   ],
   "source": [
    "# backward-fill the last location (transform 'last') and count rows that have not checked out of the supermarket\n",
    "\n",
    "df['last_loc'] = df.groupby('customer_no')['location'].transform('last')\n",
    "df.groupby('last_loc').count()"
   ]
  },
  {
   "cell_type": "code",
   "execution_count": 47,
   "id": "78f80e08",
   "metadata": {},
   "outputs": [],
   "source": [
    "# only a very small percentage has not checked out. for simplicity we just throw them out:\n",
    "# select only customers who have checked out for cleaner probabilities\n",
    "\n",
    "df = df.loc[df['last_loc'] == 'checkout']"
   ]
  },
  {
   "cell_type": "code",
   "execution_count": 48,
   "id": "76eb0e6a",
   "metadata": {},
   "outputs": [],
   "source": [
    "##############################################\n",
    "### Calculate Markov transition probabilities\n",
    "##############################################\n",
    "\n",
    "before = df.sort_values(['customer_no', 'timestamp'])['location']\n",
    "# create time shifted data\n",
    "after = before.shift(-1)\n",
    "# merge them back together\n",
    "data = pd.concat([before, after], axis=1, keys=['before', 'after'])\n",
    "# throw out the lines after check outs (where customer id increments)\n",
    "data = data[data['before'] != 'checkout']\n",
    "# calculate Markov probabilites with .crosstab function\n",
    "prob = pd.crosstab(data['before'], data['after'], normalize=0)"
   ]
  },
  {
   "cell_type": "code",
   "execution_count": 49,
   "id": "02555f40",
   "metadata": {},
   "outputs": [],
   "source": [
    "# manually insert row for checkout (no turning back)\n",
    "check_row = pd.DataFrame(data=[['checkout',0,0,0,0,0]], columns=prob.reset_index().columns)\n",
    "prob = pd.concat([check_row, prob.reset_index()], axis=0)\n",
    "prob.set_index('before', inplace=True)"
   ]
  },
  {
   "cell_type": "code",
   "execution_count": 64,
   "id": "d575201c",
   "metadata": {
    "scrolled": false
   },
   "outputs": [],
   "source": [
    "# save probabilities to csv for other script\n",
    "prob.to_csv('./data/prob.csv')"
   ]
  },
  {
   "cell_type": "code",
   "execution_count": 50,
   "id": "7a9b1fed",
   "metadata": {
    "scrolled": true
   },
   "outputs": [],
   "source": [
    "# calculate probability for first section (start of markov chain/entry into supermarket)\n",
    "#df = df.reset_index()\n",
    "prob_first = df.groupby(['customer_no']).first().groupby('location').count()['timestamp'] / df.groupby(['customer_no']).first().groupby('location').count()['timestamp'].sum()\n",
    "prob_first.to_csv('./data/prob_first.csv')"
   ]
  },
  {
   "cell_type": "code",
   "execution_count": 55,
   "id": "9e3bf8eb",
   "metadata": {},
   "outputs": [
    {
     "data": {
      "text/plain": [
       "['fruit', 'dairy', 'fruit', 'checkout']"
      ]
     },
     "execution_count": 55,
     "metadata": {},
     "output_type": "execute_result"
    }
   ],
   "source": [
    "### Test Markov Chain with single customer\n",
    "\n",
    "chain = []\n",
    "\n",
    "# determine section of entry\n",
    "section = random.choices(population=prob_first.index, weights=prob_first.values)\n",
    "\n",
    "while True:\n",
    "    chain.append(section[0])\n",
    "    if section[0] == 'checkout':\n",
    "        break\n",
    "    # determine next section\n",
    "    section = random.choices(population=prob.columns, weights=prob.loc[section].values[0])\n",
    "# output chain of locations\n",
    "chain    "
   ]
  },
  {
   "cell_type": "code",
   "execution_count": 58,
   "id": "1b581230",
   "metadata": {},
   "outputs": [],
   "source": [
    "############################################### \n",
    "### Object oriented approach\n",
    "###############################################\n",
    "\n",
    "class Customer():\n",
    "    def __init__(self, customer_no):\n",
    "        self.section = random.choices(population=prob_first.index, weights=prob_first.values)\n",
    "        self.sections = self.section\n",
    "        self.in_shop = True\n",
    "        self.customer_no = customer_no\n",
    "        \n",
    "    def __repr__(self):\n",
    "        if self.in_shop:\n",
    "            return f\"Customer {self.customer_no} is in section '{self.section[0]}'.\"\n",
    "        else:\n",
    "            return f\"Customer {self.customer_no} has left the shop\"\n",
    "        \n",
    "    def compute(self):\n",
    "        if self.in_shop:\n",
    "            self.old_section = self.section[0]\n",
    "            self.section = random.choices(population=prob.columns, weights=prob.loc[self.section].values[0])\n",
    "            self.sections.append(self.section[0]) \n",
    "            if self.section[0] == 'checkout':\n",
    "                    self.in_shop = False\n",
    "            return f\"Customer {self.customer_no} moved from '{self.old_section}' to '{self.section[0]}'.\"\n",
    "        else:\n",
    "            return f\"Customer {self.customer_no} has left the shop from '{self.old_section}'.\""
   ]
  },
  {
   "cell_type": "code",
   "execution_count": 59,
   "id": "9bb56d2d",
   "metadata": {},
   "outputs": [],
   "source": [
    "# supermarket class\n",
    "\n",
    "class Supermarket():\n",
    "    def __init__(self):\n",
    "        self.customers = []\n",
    "        self.n_customers = len(self.customers)\n",
    "        self.running_id = 0\n",
    "        \n",
    "    def __repr__(self):\n",
    "        return f\"Supermarket with {self.n_customers} customers.\"\n",
    "    \n",
    "    def add_customers(self, n=1):\n",
    "        for i in range(self.running_id, self.running_id + n):\n",
    "            self.customers.append(Customer(i))\n",
    "        self.n_customers = len(self.customers)\n",
    "        self.running_id += n\n",
    "            \n",
    "    def compute_market(self):\n",
    "        state = []\n",
    "        have_left = []\n",
    "        for customer in self.customers:\n",
    "            print(customer.compute())\n",
    "            state.append([customer.customer_no, customer.section[0]])\n",
    "            if not customer.in_shop:\n",
    "                have_left.append(customer)\n",
    "        self.customers = [x for x in self.customers if x not in have_left]\n",
    "        #self.customers = list(set(self.customers) - set(have_left))\n",
    "        self.n_customers = len(self.customers)\n",
    "        return state"
   ]
  },
  {
   "cell_type": "code",
   "execution_count": 74,
   "id": "c6d018d5",
   "metadata": {
    "scrolled": true
   },
   "outputs": [
    {
     "name": "stdout",
     "output_type": "stream",
     "text": [
      "Customer 0 moved from 'fruit' to 'checkout'.\n",
      "Customer 1 moved from 'dairy' to 'checkout'.\n",
      "Customer 2 moved from 'dairy' to 'spices'.\n",
      "Customer 2 moved from 'spices' to 'checkout'.\n",
      "Customer 3 moved from 'dairy' to 'spices'.\n",
      "Customer 4 moved from 'fruit' to 'checkout'.\n",
      "Customer 5 moved from 'fruit' to 'dairy'.\n",
      "Customer 3 moved from 'spices' to 'checkout'.\n",
      "Customer 5 moved from 'dairy' to 'spices'.\n",
      "Customer 6 moved from 'fruit' to 'spices'.\n",
      "Customer 7 moved from 'fruit' to 'drinks'.\n",
      "Customer 5 moved from 'spices' to 'drinks'.\n",
      "Customer 6 moved from 'spices' to 'checkout'.\n",
      "Customer 7 moved from 'drinks' to 'spices'.\n",
      "Customer 5 moved from 'drinks' to 'checkout'.\n",
      "Customer 7 moved from 'spices' to 'dairy'.\n",
      "Customer 7 moved from 'dairy' to 'fruit'.\n",
      "Customer 8 moved from 'spices' to 'dairy'.\n",
      "Customer 7 moved from 'fruit' to 'checkout'.\n",
      "Customer 8 moved from 'dairy' to 'checkout'.\n",
      "Customer 9 moved from 'dairy' to 'spices'.\n",
      "Customer 9 moved from 'spices' to 'drinks'.\n",
      "Customer 10 moved from 'dairy' to 'fruit'.\n",
      "Customer 11 moved from 'drinks' to 'spices'.\n",
      "Customer 12 moved from 'dairy' to 'checkout'.\n",
      "Customer 9 moved from 'drinks' to 'fruit'.\n",
      "Customer 10 moved from 'fruit' to 'drinks'.\n",
      "Customer 11 moved from 'spices' to 'fruit'.\n",
      "Customer 13 moved from 'drinks' to 'fruit'.\n",
      "Customer 14 moved from 'fruit' to 'checkout'.\n",
      "Customer 15 moved from 'dairy' to 'spices'.\n",
      "Customer 9 moved from 'fruit' to 'checkout'.\n",
      "Customer 10 moved from 'drinks' to 'checkout'.\n",
      "Customer 11 moved from 'fruit' to 'spices'.\n",
      "Customer 13 moved from 'fruit' to 'dairy'.\n",
      "Customer 15 moved from 'spices' to 'drinks'.\n",
      "Customer 16 moved from 'spices' to 'drinks'.\n",
      "Customer 11 moved from 'spices' to 'fruit'.\n",
      "Customer 13 moved from 'dairy' to 'fruit'.\n",
      "Customer 15 moved from 'drinks' to 'fruit'.\n",
      "Customer 16 moved from 'drinks' to 'fruit'.\n",
      "Customer 17 moved from 'drinks' to 'checkout'.\n",
      "Customer 18 moved from 'dairy' to 'checkout'.\n",
      "Customer 11 moved from 'fruit' to 'spices'.\n",
      "Customer 13 moved from 'fruit' to 'checkout'.\n",
      "Customer 15 moved from 'fruit' to 'spices'.\n",
      "Customer 16 moved from 'fruit' to 'checkout'.\n",
      "Customer 19 moved from 'dairy' to 'checkout'.\n",
      "Customer 11 moved from 'spices' to 'checkout'.\n",
      "Customer 15 moved from 'spices' to 'checkout'.\n",
      "Customer 20 moved from 'dairy' to 'spices'.\n",
      "Customer 21 moved from 'fruit' to 'checkout'.\n",
      "Customer 20 moved from 'spices' to 'checkout'.\n",
      "Customer 22 moved from 'dairy' to 'fruit'.\n",
      "Customer 23 moved from 'fruit' to 'checkout'.\n",
      "Customer 24 moved from 'dairy' to 'drinks'.\n",
      "Customer 22 moved from 'fruit' to 'spices'.\n",
      "Customer 24 moved from 'drinks' to 'checkout'.\n",
      "Customer 22 moved from 'spices' to 'checkout'.\n",
      "Customer 25 moved from 'fruit' to 'checkout'.\n",
      "Customer 26 moved from 'fruit' to 'checkout'.\n",
      "Customer 27 moved from 'dairy' to 'checkout'.\n",
      "Customer 28 moved from 'dairy' to 'checkout'.\n",
      "Customer 29 moved from 'spices' to 'fruit'.\n",
      "Customer 30 moved from 'spices' to 'drinks'.\n",
      "Customer 31 moved from 'dairy' to 'spices'.\n",
      "Customer 29 moved from 'fruit' to 'checkout'.\n",
      "Customer 30 moved from 'drinks' to 'fruit'.\n",
      "Customer 31 moved from 'spices' to 'checkout'.\n",
      "Customer 32 moved from 'fruit' to 'dairy'.\n",
      "Customer 33 moved from 'dairy' to 'checkout'.\n",
      "Customer 30 moved from 'fruit' to 'dairy'.\n",
      "Customer 32 moved from 'dairy' to 'spices'.\n",
      "Customer 34 moved from 'fruit' to 'checkout'.\n",
      "Customer 30 moved from 'dairy' to 'checkout'.\n",
      "Customer 32 moved from 'spices' to 'drinks'.\n",
      "Customer 35 moved from 'spices' to 'checkout'.\n",
      "Customer 36 moved from 'dairy' to 'checkout'.\n",
      "Customer 32 moved from 'drinks' to 'checkout'.\n",
      "Customer 37 moved from 'fruit' to 'drinks'.\n",
      "Customer 37 moved from 'drinks' to 'checkout'.\n",
      "Customer 38 moved from 'fruit' to 'dairy'.\n",
      "Customer 39 moved from 'spices' to 'drinks'.\n",
      "Customer 38 moved from 'dairy' to 'drinks'.\n",
      "Customer 39 moved from 'drinks' to 'spices'.\n",
      "Customer 40 moved from 'fruit' to 'checkout'.\n",
      "Customer 41 moved from 'fruit' to 'dairy'.\n",
      "Customer 42 moved from 'spices' to 'checkout'.\n",
      "Customer 38 moved from 'drinks' to 'checkout'.\n",
      "Customer 39 moved from 'spices' to 'dairy'.\n",
      "Customer 41 moved from 'dairy' to 'checkout'.\n",
      "Customer 43 moved from 'spices' to 'drinks'.\n",
      "Customer 39 moved from 'dairy' to 'checkout'.\n",
      "Customer 43 moved from 'drinks' to 'checkout'.\n",
      "Customer 44 moved from 'dairy' to 'checkout'.\n",
      "Customer 45 moved from 'dairy' to 'fruit'.\n",
      "Customer 46 moved from 'spices' to 'drinks'.\n",
      "Customer 45 moved from 'fruit' to 'checkout'.\n",
      "Customer 46 moved from 'drinks' to 'checkout'.\n",
      "Customer 47 moved from 'fruit' to 'checkout'.\n",
      "Customer 48 moved from 'fruit' to 'drinks'.\n",
      "Customer 49 moved from 'dairy' to 'checkout'.\n",
      "Customer 48 moved from 'drinks' to 'spices'.\n",
      "Customer 50 moved from 'dairy' to 'checkout'.\n",
      "Customer 51 moved from 'fruit' to 'checkout'.\n",
      "Customer 52 moved from 'fruit' to 'spices'.\n",
      "Customer 48 moved from 'spices' to 'dairy'.\n",
      "Customer 52 moved from 'spices' to 'drinks'.\n",
      "Customer 53 moved from 'fruit' to 'checkout'.\n",
      "Customer 54 moved from 'dairy' to 'checkout'.\n",
      "Customer 55 moved from 'dairy' to 'spices'.\n",
      "Customer 48 moved from 'dairy' to 'checkout'.\n",
      "Customer 52 moved from 'drinks' to 'fruit'.\n",
      "Customer 55 moved from 'spices' to 'dairy'.\n",
      "Customer 56 moved from 'dairy' to 'drinks'.\n",
      "Customer 57 moved from 'spices' to 'dairy'.\n",
      "Customer 52 moved from 'fruit' to 'checkout'.\n",
      "Customer 55 moved from 'dairy' to 'checkout'.\n",
      "Customer 56 moved from 'drinks' to 'checkout'.\n",
      "Customer 57 moved from 'dairy' to 'checkout'.\n",
      "Customer 58 moved from 'fruit' to 'dairy'.\n",
      "Customer 58 moved from 'dairy' to 'drinks'.\n",
      "Customer 59 moved from 'spices' to 'drinks'.\n",
      "Customer 60 moved from 'dairy' to 'spices'.\n",
      "Customer 58 moved from 'drinks' to 'spices'.\n",
      "Customer 59 moved from 'drinks' to 'checkout'.\n",
      "Customer 60 moved from 'spices' to 'drinks'.\n",
      "Customer 61 moved from 'fruit' to 'checkout'.\n",
      "Customer 62 moved from 'drinks' to 'fruit'.\n",
      "Customer 58 moved from 'spices' to 'dairy'.\n",
      "Customer 60 moved from 'drinks' to 'spices'.\n",
      "Customer 62 moved from 'fruit' to 'spices'.\n",
      "Customer 63 moved from 'drinks' to 'spices'.\n",
      "Customer 64 moved from 'dairy' to 'checkout'.\n",
      "Customer 65 moved from 'fruit' to 'spices'.\n",
      "Customer 58 moved from 'dairy' to 'checkout'.\n",
      "Customer 60 moved from 'spices' to 'drinks'.\n",
      "Customer 62 moved from 'spices' to 'fruit'.\n",
      "Customer 63 moved from 'spices' to 'dairy'.\n",
      "Customer 65 moved from 'spices' to 'dairy'.\n",
      "Customer 66 moved from 'fruit' to 'checkout'.\n",
      "Customer 60 moved from 'drinks' to 'fruit'.\n",
      "Customer 62 moved from 'fruit' to 'checkout'.\n",
      "Customer 63 moved from 'dairy' to 'checkout'.\n",
      "Customer 65 moved from 'dairy' to 'fruit'.\n",
      "Customer 60 moved from 'fruit' to 'checkout'.\n",
      "Customer 65 moved from 'fruit' to 'checkout'.\n",
      "Customer 67 moved from 'dairy' to 'checkout'.\n",
      "Customer 68 moved from 'dairy' to 'checkout'.\n",
      "Customer 69 moved from 'dairy' to 'checkout'.\n",
      "Customer 70 moved from 'drinks' to 'checkout'.\n",
      "Customer 71 moved from 'fruit' to 'drinks'.\n",
      "Customer 72 moved from 'fruit' to 'checkout'.\n",
      "Customer 71 moved from 'drinks' to 'spices'.\n",
      "Customer 71 moved from 'spices' to 'drinks'.\n",
      "Customer 73 moved from 'fruit' to 'checkout'.\n",
      "Customer 74 moved from 'fruit' to 'dairy'.\n",
      "Customer 71 moved from 'drinks' to 'checkout'.\n",
      "Customer 74 moved from 'dairy' to 'checkout'.\n",
      "Customer 75 moved from 'spices' to 'drinks'.\n",
      "Customer 76 moved from 'drinks' to 'checkout'.\n",
      "Customer 77 moved from 'spices' to 'dairy'.\n",
      "Customer 75 moved from 'drinks' to 'checkout'.\n",
      "Customer 77 moved from 'dairy' to 'checkout'.\n",
      "Customer 78 moved from 'fruit' to 'dairy'.\n",
      "Customer 79 moved from 'dairy' to 'checkout'.\n",
      "Customer 80 moved from 'drinks' to 'checkout'.\n",
      "Customer 78 moved from 'dairy' to 'fruit'.\n",
      "Customer 78 moved from 'fruit' to 'checkout'.\n",
      "Customer 81 moved from 'fruit' to 'checkout'.\n",
      "Customer 82 moved from 'fruit' to 'spices'.\n",
      "Customer 83 moved from 'drinks' to 'checkout'.\n",
      "Customer 82 moved from 'spices' to 'dairy'.\n",
      "Customer 84 moved from 'dairy' to 'checkout'.\n",
      "Customer 85 moved from 'fruit' to 'checkout'.\n",
      "Customer 82 moved from 'dairy' to 'fruit'.\n",
      "Customer 82 moved from 'fruit' to 'checkout'.\n",
      "Customer 86 moved from 'fruit' to 'spices'.\n",
      "Customer 87 moved from 'fruit' to 'dairy'.\n",
      "Customer 86 moved from 'spices' to 'dairy'.\n",
      "Customer 87 moved from 'dairy' to 'fruit'.\n",
      "Customer 88 moved from 'fruit' to 'checkout'.\n",
      "Customer 86 moved from 'dairy' to 'checkout'.\n",
      "Customer 87 moved from 'fruit' to 'checkout'.\n",
      "Customer 89 moved from 'fruit' to 'checkout'.\n",
      "Customer 90 moved from 'drinks' to 'checkout'.\n",
      "Customer 91 moved from 'drinks' to 'spices'.\n",
      "Customer 91 moved from 'spices' to 'dairy'.\n",
      "Customer 92 moved from 'dairy' to 'checkout'.\n",
      "Customer 91 moved from 'dairy' to 'checkout'.\n",
      "Customer 93 moved from 'dairy' to 'spices'.\n",
      "Customer 94 moved from 'dairy' to 'spices'.\n",
      "Customer 93 moved from 'spices' to 'drinks'.\n",
      "Customer 94 moved from 'spices' to 'dairy'.\n",
      "Customer 95 moved from 'dairy' to 'fruit'.\n",
      "Customer 96 moved from 'drinks' to 'checkout'.\n",
      "Customer 93 moved from 'drinks' to 'fruit'.\n",
      "Customer 94 moved from 'dairy' to 'checkout'.\n",
      "Customer 95 moved from 'fruit' to 'spices'.\n",
      "Customer 97 moved from 'drinks' to 'fruit'.\n",
      "Customer 98 moved from 'fruit' to 'dairy'.\n",
      "Customer 93 moved from 'fruit' to 'checkout'.\n",
      "Customer 95 moved from 'spices' to 'dairy'.\n",
      "Customer 97 moved from 'fruit' to 'checkout'.\n",
      "Customer 98 moved from 'dairy' to 'drinks'.\n",
      "Customer 99 moved from 'dairy' to 'spices'.\n",
      "Customer 100 moved from 'dairy' to 'checkout'.\n",
      "Customer 101 moved from 'dairy' to 'spices'.\n",
      "Customer 95 moved from 'dairy' to 'checkout'.\n",
      "Customer 98 moved from 'drinks' to 'fruit'.\n"
     ]
    },
    {
     "name": "stdout",
     "output_type": "stream",
     "text": [
      "Customer 99 moved from 'spices' to 'drinks'.\n",
      "Customer 101 moved from 'spices' to 'drinks'.\n",
      "Customer 102 moved from 'spices' to 'checkout'.\n",
      "Customer 98 moved from 'fruit' to 'checkout'.\n",
      "Customer 99 moved from 'drinks' to 'spices'.\n",
      "Customer 101 moved from 'drinks' to 'fruit'.\n",
      "Customer 103 moved from 'spices' to 'drinks'.\n",
      "Customer 104 moved from 'fruit' to 'dairy'.\n",
      "Customer 99 moved from 'spices' to 'fruit'.\n",
      "Customer 101 moved from 'fruit' to 'checkout'.\n",
      "Customer 103 moved from 'drinks' to 'dairy'.\n",
      "Customer 104 moved from 'dairy' to 'drinks'.\n",
      "Customer 99 moved from 'fruit' to 'dairy'.\n",
      "Customer 103 moved from 'dairy' to 'checkout'.\n",
      "Customer 104 moved from 'drinks' to 'dairy'.\n",
      "Customer 105 moved from 'dairy' to 'drinks'.\n",
      "Customer 99 moved from 'dairy' to 'spices'.\n",
      "Customer 104 moved from 'dairy' to 'checkout'.\n",
      "Customer 105 moved from 'drinks' to 'spices'.\n",
      "Customer 106 moved from 'spices' to 'drinks'.\n",
      "Customer 107 moved from 'fruit' to 'checkout'.\n",
      "Customer 99 moved from 'spices' to 'dairy'.\n",
      "Customer 105 moved from 'spices' to 'checkout'.\n",
      "Customer 106 moved from 'drinks' to 'checkout'.\n",
      "Customer 108 moved from 'dairy' to 'fruit'.\n",
      "Customer 99 moved from 'dairy' to 'checkout'.\n",
      "Customer 108 moved from 'fruit' to 'dairy'.\n",
      "Customer 109 moved from 'dairy' to 'spices'.\n",
      "Customer 110 moved from 'fruit' to 'checkout'.\n",
      "Customer 111 moved from 'drinks' to 'checkout'.\n",
      "Customer 108 moved from 'dairy' to 'spices'.\n",
      "Customer 109 moved from 'spices' to 'checkout'.\n",
      "Customer 112 moved from 'dairy' to 'drinks'.\n",
      "Customer 108 moved from 'spices' to 'drinks'.\n",
      "Customer 112 moved from 'drinks' to 'checkout'.\n",
      "Customer 108 moved from 'drinks' to 'fruit'.\n",
      "Customer 108 moved from 'fruit' to 'checkout'.\n",
      "Customer 113 moved from 'dairy' to 'drinks'.\n",
      "Customer 114 moved from 'dairy' to 'drinks'.\n",
      "Customer 113 moved from 'drinks' to 'spices'.\n",
      "Customer 114 moved from 'drinks' to 'spices'.\n",
      "Customer 115 moved from 'drinks' to 'spices'.\n",
      "Customer 116 moved from 'dairy' to 'drinks'.\n",
      "Customer 117 moved from 'fruit' to 'dairy'.\n",
      "Customer 113 moved from 'spices' to 'drinks'.\n",
      "Customer 114 moved from 'spices' to 'dairy'.\n",
      "Customer 115 moved from 'spices' to 'checkout'.\n",
      "Customer 116 moved from 'drinks' to 'fruit'.\n",
      "Customer 117 moved from 'dairy' to 'drinks'.\n",
      "Customer 118 moved from 'dairy' to 'fruit'.\n",
      "Customer 119 moved from 'dairy' to 'checkout'.\n",
      "Customer 120 moved from 'fruit' to 'checkout'.\n",
      "Customer 113 moved from 'drinks' to 'spices'.\n",
      "Customer 114 moved from 'dairy' to 'spices'.\n",
      "Customer 116 moved from 'fruit' to 'checkout'.\n",
      "Customer 117 moved from 'drinks' to 'checkout'.\n",
      "Customer 118 moved from 'fruit' to 'checkout'.\n",
      "Customer 121 moved from 'fruit' to 'dairy'.\n",
      "Customer 122 moved from 'fruit' to 'checkout'.\n",
      "Customer 123 moved from 'spices' to 'fruit'.\n",
      "Customer 113 moved from 'spices' to 'dairy'.\n",
      "Customer 114 moved from 'spices' to 'fruit'.\n",
      "Customer 121 moved from 'dairy' to 'fruit'.\n",
      "Customer 123 moved from 'fruit' to 'spices'.\n",
      "Customer 124 moved from 'fruit' to 'checkout'.\n",
      "Customer 125 moved from 'fruit' to 'dairy'.\n",
      "Customer 126 moved from 'fruit' to 'dairy'.\n",
      "Customer 113 moved from 'dairy' to 'drinks'.\n",
      "Customer 114 moved from 'fruit' to 'drinks'.\n",
      "Customer 121 moved from 'fruit' to 'checkout'.\n",
      "Customer 123 moved from 'spices' to 'fruit'.\n",
      "Customer 125 moved from 'dairy' to 'spices'.\n",
      "Customer 126 moved from 'dairy' to 'checkout'.\n",
      "Customer 127 moved from 'drinks' to 'fruit'.\n",
      "Customer 128 moved from 'fruit' to 'checkout'.\n",
      "Customer 129 moved from 'spices' to 'drinks'.\n",
      "Customer 113 moved from 'drinks' to 'checkout'.\n",
      "Customer 114 moved from 'drinks' to 'spices'.\n",
      "Customer 123 moved from 'fruit' to 'drinks'.\n",
      "Customer 125 moved from 'spices' to 'drinks'.\n",
      "Customer 127 moved from 'fruit' to 'drinks'.\n",
      "Customer 129 moved from 'drinks' to 'checkout'.\n",
      "Customer 130 moved from 'fruit' to 'checkout'.\n",
      "Customer 114 moved from 'spices' to 'dairy'.\n",
      "Customer 123 moved from 'drinks' to 'checkout'.\n",
      "Customer 125 moved from 'drinks' to 'checkout'.\n",
      "Customer 127 moved from 'drinks' to 'checkout'.\n",
      "Customer 131 moved from 'spices' to 'drinks'.\n",
      "Customer 132 moved from 'fruit' to 'checkout'.\n",
      "Customer 114 moved from 'dairy' to 'drinks'.\n",
      "Customer 131 moved from 'drinks' to 'spices'.\n",
      "Customer 133 moved from 'dairy' to 'checkout'.\n",
      "Customer 134 moved from 'fruit' to 'checkout'.\n",
      "Customer 114 moved from 'drinks' to 'checkout'.\n",
      "Customer 131 moved from 'spices' to 'drinks'.\n",
      "Customer 135 moved from 'dairy' to 'checkout'.\n",
      "Customer 136 moved from 'spices' to 'checkout'.\n",
      "Customer 131 moved from 'drinks' to 'checkout'.\n",
      "Customer 137 moved from 'dairy' to 'fruit'.\n",
      "Customer 138 moved from 'fruit' to 'dairy'.\n",
      "Customer 139 moved from 'fruit' to 'checkout'.\n",
      "Customer 137 moved from 'fruit' to 'checkout'.\n",
      "Customer 138 moved from 'dairy' to 'spices'.\n",
      "Customer 140 moved from 'spices' to 'drinks'.\n",
      "Customer 138 moved from 'spices' to 'dairy'.\n",
      "Customer 140 moved from 'drinks' to 'checkout'.\n",
      "Customer 141 moved from 'spices' to 'drinks'.\n",
      "Customer 138 moved from 'dairy' to 'spices'.\n",
      "Customer 141 moved from 'drinks' to 'fruit'.\n",
      "Customer 142 moved from 'fruit' to 'checkout'.\n",
      "Customer 138 moved from 'spices' to 'drinks'.\n",
      "Customer 141 moved from 'fruit' to 'dairy'.\n",
      "Customer 143 moved from 'dairy' to 'checkout'.\n",
      "Customer 138 moved from 'drinks' to 'fruit'.\n",
      "Customer 141 moved from 'dairy' to 'checkout'.\n",
      "Customer 144 moved from 'fruit' to 'checkout'.\n",
      "Customer 145 moved from 'drinks' to 'checkout'.\n",
      "Customer 146 moved from 'dairy' to 'checkout'.\n",
      "Customer 138 moved from 'fruit' to 'checkout'.\n",
      "Customer 147 moved from 'dairy' to 'drinks'.\n",
      "Customer 148 moved from 'spices' to 'checkout'.\n",
      "Customer 147 moved from 'drinks' to 'checkout'.\n",
      "Customer 149 moved from 'fruit' to 'dairy'.\n",
      "Customer 150 moved from 'fruit' to 'dairy'.\n",
      "Customer 149 moved from 'dairy' to 'checkout'.\n",
      "Customer 150 moved from 'dairy' to 'checkout'.\n",
      "Customer 151 moved from 'dairy' to 'fruit'.\n",
      "Customer 151 moved from 'fruit' to 'checkout'.\n",
      "Customer 152 moved from 'fruit' to 'dairy'.\n",
      "Customer 153 moved from 'drinks' to 'checkout'.\n",
      "Customer 154 moved from 'fruit' to 'dairy'.\n",
      "Customer 152 moved from 'dairy' to 'fruit'.\n",
      "Customer 154 moved from 'dairy' to 'checkout'.\n",
      "Customer 155 moved from 'dairy' to 'spices'.\n",
      "Customer 156 moved from 'fruit' to 'drinks'.\n",
      "Customer 157 moved from 'drinks' to 'fruit'.\n",
      "Customer 152 moved from 'fruit' to 'dairy'.\n",
      "Customer 155 moved from 'spices' to 'checkout'.\n",
      "Customer 156 moved from 'drinks' to 'checkout'.\n",
      "Customer 157 moved from 'fruit' to 'checkout'.\n",
      "Customer 158 moved from 'drinks' to 'fruit'.\n",
      "Customer 159 moved from 'fruit' to 'dairy'.\n",
      "Customer 152 moved from 'dairy' to 'drinks'.\n",
      "Customer 158 moved from 'fruit' to 'dairy'.\n",
      "Customer 159 moved from 'dairy' to 'fruit'.\n",
      "Customer 160 moved from 'fruit' to 'dairy'.\n",
      "Customer 161 moved from 'fruit' to 'spices'.\n",
      "Customer 152 moved from 'drinks' to 'checkout'.\n",
      "Customer 158 moved from 'dairy' to 'drinks'.\n",
      "Customer 159 moved from 'fruit' to 'drinks'.\n",
      "Customer 160 moved from 'dairy' to 'fruit'.\n",
      "Customer 161 moved from 'spices' to 'dairy'.\n",
      "Customer 162 moved from 'fruit' to 'checkout'.\n",
      "Customer 163 moved from 'drinks' to 'checkout'.\n",
      "Customer 158 moved from 'drinks' to 'checkout'.\n",
      "Customer 159 moved from 'drinks' to 'checkout'.\n",
      "Customer 160 moved from 'fruit' to 'checkout'.\n",
      "Customer 161 moved from 'dairy' to 'fruit'.\n",
      "Customer 161 moved from 'fruit' to 'spices'.\n",
      "Customer 164 moved from 'drinks' to 'checkout'.\n",
      "Customer 161 moved from 'spices' to 'drinks'.\n",
      "Customer 165 moved from 'fruit' to 'spices'.\n",
      "Customer 166 moved from 'drinks' to 'fruit'.\n",
      "Customer 161 moved from 'drinks' to 'checkout'.\n",
      "Customer 165 moved from 'spices' to 'checkout'.\n",
      "Customer 166 moved from 'fruit' to 'spices'.\n",
      "Customer 166 moved from 'spices' to 'checkout'.\n",
      "Customer 167 moved from 'fruit' to 'checkout'.\n",
      "Customer 168 moved from 'dairy' to 'fruit'.\n",
      "Customer 169 moved from 'spices' to 'fruit'.\n",
      "Customer 170 moved from 'dairy' to 'drinks'.\n",
      "Customer 168 moved from 'fruit' to 'spices'.\n",
      "Customer 169 moved from 'fruit' to 'checkout'.\n",
      "Customer 170 moved from 'drinks' to 'checkout'.\n",
      "Customer 171 moved from 'dairy' to 'checkout'.\n",
      "Customer 172 moved from 'drinks' to 'spices'.\n",
      "Customer 173 moved from 'dairy' to 'checkout'.\n",
      "Customer 168 moved from 'spices' to 'checkout'.\n",
      "Customer 172 moved from 'spices' to 'checkout'.\n",
      "Customer 174 moved from 'fruit' to 'checkout'.\n",
      "Customer 175 moved from 'fruit' to 'checkout'.\n",
      "Customer 176 moved from 'dairy' to 'fruit'.\n",
      "Customer 176 moved from 'fruit' to 'dairy'.\n",
      "Customer 177 moved from 'drinks' to 'checkout'.\n",
      "Customer 178 moved from 'fruit' to 'dairy'.\n",
      "Customer 176 moved from 'dairy' to 'drinks'.\n",
      "Customer 178 moved from 'dairy' to 'checkout'.\n",
      "Customer 179 moved from 'drinks' to 'spices'.\n",
      "Customer 180 moved from 'dairy' to 'fruit'.\n",
      "Customer 176 moved from 'drinks' to 'spices'.\n",
      "Customer 179 moved from 'spices' to 'dairy'.\n",
      "Customer 180 moved from 'fruit' to 'drinks'.\n",
      "Customer 176 moved from 'spices' to 'dairy'.\n",
      "Customer 179 moved from 'dairy' to 'drinks'.\n",
      "Customer 180 moved from 'drinks' to 'checkout'.\n",
      "Customer 176 moved from 'dairy' to 'checkout'.\n",
      "Customer 179 moved from 'drinks' to 'fruit'.\n",
      "Customer 179 moved from 'fruit' to 'checkout'.\n",
      "Customer 181 moved from 'dairy' to 'checkout'.\n"
     ]
    },
    {
     "name": "stdout",
     "output_type": "stream",
     "text": [
      "Customer 182 moved from 'dairy' to 'checkout'.\n",
      "Customer 183 moved from 'drinks' to 'checkout'.\n",
      "Customer 184 moved from 'fruit' to 'checkout'.\n",
      "Customer 185 moved from 'dairy' to 'spices'.\n",
      "Customer 186 moved from 'dairy' to 'fruit'.\n",
      "Customer 187 moved from 'drinks' to 'fruit'.\n",
      "Customer 185 moved from 'spices' to 'checkout'.\n",
      "Customer 186 moved from 'fruit' to 'checkout'.\n",
      "Customer 187 moved from 'fruit' to 'checkout'.\n",
      "Customer 188 moved from 'fruit' to 'drinks'.\n",
      "Customer 189 moved from 'drinks' to 'checkout'.\n",
      "Customer 188 moved from 'drinks' to 'checkout'.\n",
      "Customer 190 moved from 'dairy' to 'drinks'.\n",
      "Customer 191 moved from 'dairy' to 'fruit'.\n",
      "Customer 190 moved from 'drinks' to 'checkout'.\n",
      "Customer 191 moved from 'fruit' to 'drinks'.\n",
      "Customer 192 moved from 'drinks' to 'checkout'.\n",
      "Customer 191 moved from 'drinks' to 'checkout'.\n",
      "Customer 193 moved from 'dairy' to 'fruit'.\n",
      "Customer 194 moved from 'fruit' to 'drinks'.\n",
      "Customer 195 moved from 'spices' to 'drinks'.\n"
     ]
    }
   ],
   "source": [
    "### Setting up simulation of supermarket with classes from above\n",
    "\n",
    "# define time range for simulation\n",
    "timestamps = pd.date_range(start='2022-12-22 07:00:00', end='2022-12-22 09:00:00', freq='1T')\n",
    "# instanciate supermarket\n",
    "s = Supermarket()\n",
    "\n",
    "output = []\n",
    "\n",
    "# run loop\n",
    "for timestamp in timestamps:\n",
    "    # add random number of customers each time step\n",
    "    s.add_customers(random.randint(0,3))\n",
    "    # run supermarket for one timestep\n",
    "    result = s.compute_market()\n",
    "    # save results\n",
    "    output.append(pd.DataFrame([[timestamp,row[0],row[1]] for row in result], columns= ['timestamp','customer_id','location']))\n",
    "    "
   ]
  },
  {
   "cell_type": "code",
   "execution_count": 61,
   "id": "d5499b60",
   "metadata": {},
   "outputs": [
    {
     "data": {
      "text/html": [
       "<div>\n",
       "<style scoped>\n",
       "    .dataframe tbody tr th:only-of-type {\n",
       "        vertical-align: middle;\n",
       "    }\n",
       "\n",
       "    .dataframe tbody tr th {\n",
       "        vertical-align: top;\n",
       "    }\n",
       "\n",
       "    .dataframe thead th {\n",
       "        text-align: right;\n",
       "    }\n",
       "</style>\n",
       "<table border=\"1\" class=\"dataframe\">\n",
       "  <thead>\n",
       "    <tr style=\"text-align: right;\">\n",
       "      <th></th>\n",
       "      <th>timestamp</th>\n",
       "      <th>customer_id</th>\n",
       "      <th>location</th>\n",
       "      <th>date_str</th>\n",
       "    </tr>\n",
       "  </thead>\n",
       "  <tbody>\n",
       "    <tr>\n",
       "      <th>0</th>\n",
       "      <td>2022-12-22 07:00:00</td>\n",
       "      <td>0</td>\n",
       "      <td>spices</td>\n",
       "      <td>2022-12-22 07:00:00</td>\n",
       "    </tr>\n",
       "    <tr>\n",
       "      <th>1</th>\n",
       "      <td>2022-12-22 07:00:00</td>\n",
       "      <td>1</td>\n",
       "      <td>fruit</td>\n",
       "      <td>2022-12-22 07:00:00</td>\n",
       "    </tr>\n",
       "    <tr>\n",
       "      <th>2</th>\n",
       "      <td>2022-12-22 07:00:00</td>\n",
       "      <td>2</td>\n",
       "      <td>spices</td>\n",
       "      <td>2022-12-22 07:00:00</td>\n",
       "    </tr>\n",
       "    <tr>\n",
       "      <th>0</th>\n",
       "      <td>2022-12-22 07:01:00</td>\n",
       "      <td>0</td>\n",
       "      <td>checkout</td>\n",
       "      <td>2022-12-22 07:01:00</td>\n",
       "    </tr>\n",
       "    <tr>\n",
       "      <th>1</th>\n",
       "      <td>2022-12-22 07:01:00</td>\n",
       "      <td>1</td>\n",
       "      <td>checkout</td>\n",
       "      <td>2022-12-22 07:01:00</td>\n",
       "    </tr>\n",
       "    <tr>\n",
       "      <th>...</th>\n",
       "      <td>...</td>\n",
       "      <td>...</td>\n",
       "      <td>...</td>\n",
       "      <td>...</td>\n",
       "    </tr>\n",
       "    <tr>\n",
       "      <th>3</th>\n",
       "      <td>2022-12-22 08:59:00</td>\n",
       "      <td>183</td>\n",
       "      <td>spices</td>\n",
       "      <td>2022-12-22 08:59:00</td>\n",
       "    </tr>\n",
       "    <tr>\n",
       "      <th>4</th>\n",
       "      <td>2022-12-22 08:59:00</td>\n",
       "      <td>184</td>\n",
       "      <td>checkout</td>\n",
       "      <td>2022-12-22 08:59:00</td>\n",
       "    </tr>\n",
       "    <tr>\n",
       "      <th>0</th>\n",
       "      <td>2022-12-22 09:00:00</td>\n",
       "      <td>180</td>\n",
       "      <td>checkout</td>\n",
       "      <td>2022-12-22 09:00:00</td>\n",
       "    </tr>\n",
       "    <tr>\n",
       "      <th>1</th>\n",
       "      <td>2022-12-22 09:00:00</td>\n",
       "      <td>181</td>\n",
       "      <td>checkout</td>\n",
       "      <td>2022-12-22 09:00:00</td>\n",
       "    </tr>\n",
       "    <tr>\n",
       "      <th>2</th>\n",
       "      <td>2022-12-22 09:00:00</td>\n",
       "      <td>183</td>\n",
       "      <td>dairy</td>\n",
       "      <td>2022-12-22 09:00:00</td>\n",
       "    </tr>\n",
       "  </tbody>\n",
       "</table>\n",
       "<p>467 rows × 4 columns</p>\n",
       "</div>"
      ],
      "text/plain": [
       "              timestamp customer_id  location             date_str\n",
       "0   2022-12-22 07:00:00           0    spices  2022-12-22 07:00:00\n",
       "1   2022-12-22 07:00:00           1     fruit  2022-12-22 07:00:00\n",
       "2   2022-12-22 07:00:00           2    spices  2022-12-22 07:00:00\n",
       "0   2022-12-22 07:01:00           0  checkout  2022-12-22 07:01:00\n",
       "1   2022-12-22 07:01:00           1  checkout  2022-12-22 07:01:00\n",
       "..                  ...         ...       ...                  ...\n",
       "3   2022-12-22 08:59:00         183    spices  2022-12-22 08:59:00\n",
       "4   2022-12-22 08:59:00         184  checkout  2022-12-22 08:59:00\n",
       "0   2022-12-22 09:00:00         180  checkout  2022-12-22 09:00:00\n",
       "1   2022-12-22 09:00:00         181  checkout  2022-12-22 09:00:00\n",
       "2   2022-12-22 09:00:00         183     dairy  2022-12-22 09:00:00\n",
       "\n",
       "[467 rows x 4 columns]"
      ]
     },
     "execution_count": 61,
     "metadata": {},
     "output_type": "execute_result"
    }
   ],
   "source": [
    "# create df that contains all simulation data\n",
    "\n",
    "sim = pd.concat(output)\n",
    "sim['date_str'] = sim['timestamp'].astype(str)\n",
    "sim"
   ]
  },
  {
   "cell_type": "code",
   "execution_count": 56,
   "id": "3ca22dee",
   "metadata": {},
   "outputs": [],
   "source": [
    "######################################\n",
    "### Visualization\n",
    "######################################\n",
    "\n",
    "# in other Notebook"
   ]
  }
 ],
 "metadata": {
  "kernelspec": {
   "display_name": "Python 3 (ipykernel)",
   "language": "python",
   "name": "python3"
  },
  "language_info": {
   "codemirror_mode": {
    "name": "ipython",
    "version": 3
   },
   "file_extension": ".py",
   "mimetype": "text/x-python",
   "name": "python",
   "nbconvert_exporter": "python",
   "pygments_lexer": "ipython3",
   "version": "3.9.12"
  }
 },
 "nbformat": 4,
 "nbformat_minor": 5
}
