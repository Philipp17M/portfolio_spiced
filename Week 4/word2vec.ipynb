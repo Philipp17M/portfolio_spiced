{
 "cells": [
  {
   "cell_type": "code",
   "execution_count": 5,
   "id": "ef73acd2",
   "metadata": {},
   "outputs": [],
   "source": [
    "import pandas as pd\n",
    "import numpy as np\n",
    "from sklearn.feature_extraction.text import CountVectorizer\n",
    "from sklearn.feature_extraction.text import TfidfVectorizer\n",
    "from sklearn.linear_model import LogisticRegression\n",
    "from sklearn.ensemble import RandomForestClassifier\n",
    "from sklearn.svm import SVC\n",
    "from sklearn.model_selection import train_test_split\n",
    "from sklearn.model_selection import cross_val_score\n",
    "from sklearn.model_selection import  StratifiedKFold\n",
    "import os\n",
    "from sys import getsizeof\n",
    "\n",
    "from scipy import spatial\n",
    "import matplotlib.pyplot as plt\n",
    "from sklearn.manifold import TSNE"
   ]
  },
  {
   "cell_type": "code",
   "execution_count": null,
   "id": "b762e5e0",
   "metadata": {},
   "outputs": [],
   "source": [
    "### Task:\n",
    "# in the course of working with words and vectorization I came across the \"pretrained\" word vector spaces \"glove\"\n",
    "# these vector spaces are embeddings of words with respect to their co-occurence with other words so that\n",
    "# they are put into a meaningful point within that vectorspace.\n",
    "# this allows for operations like \"king - man + woman = queen\"\n"
   ]
  },
  {
   "cell_type": "code",
   "execution_count": 4,
   "id": "5a2beb96",
   "metadata": {},
   "outputs": [],
   "source": [
    "# read-in the vector files into a dictionary\n",
    "\n",
    "embeddings_dict = {}\n",
    "\n",
    "with open(\"./glove.6B/glove.6B.200d.txt\", 'r', encoding=\"utf-8\") as f:\n",
    "     for line in f:\n",
    "        values = line.split()\n",
    "        word = values[0]\n",
    "        vector = np.asarray(values[1:], \"float32\")\n",
    "        embeddings_dict[word] = vector"
   ]
  },
  {
   "cell_type": "code",
   "execution_count": 6,
   "id": "f3388310",
   "metadata": {},
   "outputs": [],
   "source": [
    "# define function for finding the closest words to some input vector\n",
    "\n",
    "def find_closest_embeddings(embedding):\n",
    "    return sorted(embeddings_dict.keys(), key=lambda word: spatial.distance.euclidean(embeddings_dict[word], embedding))"
   ]
  },
  {
   "cell_type": "code",
   "execution_count": 8,
   "id": "eb22f9ae",
   "metadata": {},
   "outputs": [
    {
     "data": {
      "text/plain": [
       "['queen', 'monarch', 'princess', 'throne', 'elizabeth']"
      ]
     },
     "execution_count": 8,
     "metadata": {},
     "output_type": "execute_result"
    }
   ],
   "source": [
    "# test word operations\n",
    "\n",
    "find_closest_embeddings(\n",
    "     embeddings_dict['king'] - embeddings_dict['man'] + embeddings_dict['woman'] \n",
    ")[1:6]"
   ]
  }
 ],
 "metadata": {
  "kernelspec": {
   "display_name": "Python 3 (ipykernel)",
   "language": "python",
   "name": "python3"
  },
  "language_info": {
   "codemirror_mode": {
    "name": "ipython",
    "version": 3
   },
   "file_extension": ".py",
   "mimetype": "text/x-python",
   "name": "python",
   "nbconvert_exporter": "python",
   "pygments_lexer": "ipython3",
   "version": "3.9.12"
  }
 },
 "nbformat": 4,
 "nbformat_minor": 5
}
