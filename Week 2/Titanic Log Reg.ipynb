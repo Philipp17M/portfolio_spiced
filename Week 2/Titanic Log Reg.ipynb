{
 "cells": [
  {
   "cell_type": "code",
   "execution_count": 17,
   "id": "3ae9d323",
   "metadata": {},
   "outputs": [],
   "source": [
    "# Imports\n",
    "\n",
    "import numpy as np\n",
    "import pandas as pd\n",
    "from matplotlib import pyplot as plt\n",
    "import seaborn as sns\n",
    "from tabulate import tabulate\n",
    "\n",
    "from sklearn.dummy import DummyClassifier\n",
    "from sklearn.linear_model import LogisticRegression\n",
    "from sklearn.ensemble import RandomForestClassifier\n",
    "from sklearn.datasets import load_wine\n",
    "from sklearn.preprocessing import MinMaxScaler\n",
    "from sklearn.preprocessing import normalize\n",
    "from sklearn.preprocessing import LabelBinarizer\n",
    "from sklearn.model_selection import train_test_split\n",
    "from sklearn.metrics import confusion_matrix\n",
    "from sklearn.metrics import ConfusionMatrixDisplay\n",
    "\n",
    "from sklearn.compose import ColumnTransformer\n",
    "from sklearn.preprocessing import FunctionTransformer\n",
    "from sklearn.pipeline import Pipeline\n",
    "from sklearn.impute import SimpleImputer\n",
    "\n",
    "from sklearn.metrics import plot_roc_curve, roc_curve, auc, RocCurveDisplay"
   ]
  },
  {
   "cell_type": "code",
   "execution_count": null,
   "id": "fd91f71e",
   "metadata": {},
   "outputs": [],
   "source": [
    "### Task:\n",
    "\n",
    "# work with titanic survival data: import, exploration\n",
    "# data wrangling, imputation, feature engineering\n",
    "# set up ML model and train on train data\n",
    "# use model to predict the survival of test data set \n",
    "# measure score/accuracy of prediction"
   ]
  },
  {
   "cell_type": "code",
   "execution_count": null,
   "id": "dba68825",
   "metadata": {},
   "outputs": [],
   "source": [
    "#############################################\n",
    "### Exploration\n",
    "#############################################"
   ]
  },
  {
   "cell_type": "code",
   "execution_count": 3,
   "id": "5936d125",
   "metadata": {},
   "outputs": [
    {
     "data": {
      "text/plain": [
       "(891, 12)"
      ]
     },
     "execution_count": 3,
     "metadata": {},
     "output_type": "execute_result"
    }
   ],
   "source": [
    "# read-in data\n",
    "full_data = pd.read_csv('train.csv')\n",
    "full_data.shape"
   ]
  },
  {
   "cell_type": "code",
   "execution_count": 5,
   "id": "b0fac37d",
   "metadata": {},
   "outputs": [
    {
     "name": "stdout",
     "output_type": "stream",
     "text": [
      "total: 891, survived: 342, not survived: 549\n"
     ]
    }
   ],
   "source": [
    "# no of people survived vs. dead:\n",
    "alive = (full_data['Survived'] == 1).sum()\n",
    "dead = (full_data['Survived'] == 0).sum()\n",
    "\n",
    "print(f'total: {alive + dead}, survived: {alive}, not survived: {dead}')"
   ]
  },
  {
   "cell_type": "code",
   "execution_count": 7,
   "id": "2917c780",
   "metadata": {},
   "outputs": [
    {
     "data": {
      "image/png": "[encoded data removed]",
      "text/plain": [
       "<Figure size 432x288 with 1 Axes>"
      ]
     },
     "metadata": {
      "needs_background": "light"
     },
     "output_type": "display_data"
    }
   ],
   "source": [
    "# plot survival data\n",
    "\n",
    "categories = ['Survival', 'Dead']\n",
    "data = [(full_data['Survived'] == 1).sum(), (full_data['Survived'] == 0).sum()]\n",
    "\n",
    "fig = plt.figure()\n",
    "ax = fig.add_axes([0,0,1,1])\n",
    "ax.bar(categories, data)\n",
    "ax.set_title('Titanic Survival Data')\n",
    "ax.set_ylabel('No. of people');"
   ]
  },
  {
   "cell_type": "code",
   "execution_count": 12,
   "id": "7205f8d4",
   "metadata": {},
   "outputs": [
    {
     "data": {
      "image/png": "[encoded data removed]",
      "text/plain": [
       "<Figure size 432x288 with 1 Axes>"
      ]
     },
     "metadata": {
      "needs_background": "light"
     },
     "output_type": "display_data"
    }
   ],
   "source": [
    "# bar plot: number of people male/female in each class\n",
    "\n",
    "X = 0\n",
    "fig = plt.figure()\n",
    "ax = fig.add_axes([0,0,1,1])\n",
    "\n",
    "ax.bar(0.00, ((full_data['Pclass'] == 1) & (full_data['Sex'] == 'female')).sum(), color = 'r', width = 0.25)\n",
    "ax.bar(0.00, ((full_data['Pclass'] == 1) & (full_data['Sex'] == 'male')).sum(), width = 0.25, bottom=((full_data['Pclass'] == 1) & (full_data['Sex'] == 'female')).sum(), color='b')\n",
    "\n",
    "ax.bar(0.30, ((full_data['Pclass'] == 2) & (full_data['Sex'] == 'female')).sum(), color = 'r', width = 0.25)\n",
    "ax.bar(0.3, ((full_data['Pclass'] == 2) & (full_data['Sex'] == 'male')).sum(), width = 0.25, bottom=((full_data['Pclass'] == 2) & (full_data['Sex'] == 'female')).sum(), color='b')\n",
    "\n",
    "ax.bar(0.6, ((full_data['Pclass'] == 3) & (full_data['Sex'] == 'female')).sum(), color = 'r', width = 0.25)\n",
    "ax.bar(0.60, ((full_data['Pclass'] == 3) & (full_data['Sex'] == 'male')).sum(), width = 0.25, bottom=((full_data['Pclass'] == 3) & (full_data['Sex'] == 'female')).sum(), color='b')\n",
    "\n",
    "ax.set_xticks([0,0.3,0.6], ('First', 'Second', 'Third'))\n",
    "ax.legend(labels=['Female', 'Male']);"
   ]
  },
  {
   "cell_type": "code",
   "execution_count": 14,
   "id": "a359cb49",
   "metadata": {},
   "outputs": [
    {
     "data": {
      "image/png": "[encoded data removed]",
      "text/plain": [
       "<Figure size 432x288 with 1 Axes>"
      ]
     },
     "metadata": {
      "needs_background": "light"
     },
     "output_type": "display_data"
    }
   ],
   "source": [
    "# barplot: no of people survived/drowned in each class\n",
    "\n",
    "X = 0\n",
    "fig = plt.figure()\n",
    "ax = fig.add_axes([0,0,1,1])\n",
    "\n",
    "ax.bar(0.00, ((full_data['Pclass'] == 1) & (full_data['Survived'] == 1)).sum(), color = 'r', width = 0.25)\n",
    "ax.bar(0.00, ((full_data['Pclass'] == 1) & (full_data['Survived'] == 0)).sum(), width = 0.25, bottom=((full_data['Pclass'] == 1) & (full_data['Survived'] == 1)).sum(), color='b')\n",
    "\n",
    "ax.bar(0.30, ((full_data['Pclass'] == 2) & (full_data['Survived'] == 1)).sum(), color = 'r', width = 0.25)\n",
    "ax.bar(0.3, ((full_data['Pclass'] == 2) & (full_data['Survived'] == 0)).sum(), width = 0.25, bottom=((full_data['Pclass'] == 2) & (full_data['Survived'] == 1)).sum(), color='b')\n",
    "\n",
    "ax.bar(0.6, ((full_data['Pclass'] == 3) & (full_data['Survived'] == 1)).sum(), color = 'r', width = 0.25)\n",
    "ax.bar(0.60, ((full_data['Pclass'] == 3) & (full_data['Survived'] == 0)).sum(), width = 0.25, bottom=((full_data['Pclass'] == 3) & (full_data['Survived'] == 1)).sum(), color='b')\n",
    "\n",
    "ax.set_xticks([0,0.3,0.6], ('First', 'Second', 'Third'))\n",
    "ax.legend(labels=['Survived', 'Drowned']);"
   ]
  },
  {
   "cell_type": "code",
   "execution_count": 16,
   "id": "b9cb8e1e",
   "metadata": {
    "scrolled": true
   },
   "outputs": [
    {
     "data": {
      "image/png": "[encoded data removed]",
      "text/plain": [
       "<Figure size 432x288 with 1 Axes>"
      ]
     },
     "metadata": {
      "needs_background": "light"
     },
     "output_type": "display_data"
    }
   ],
   "source": [
    "# histplot: age distribution survived/drowned\n",
    "\n",
    "plt.hist(full_data[full_data['Survived']==1]['Age'], density=False, bins=40, color='green', alpha = 0.7) \n",
    "plt.hist(full_data[full_data['Survived']==0]['Age'], density=False, bins=40, color='red', alpha = 0.25) \n",
    "plt.ylabel('Counts')\n",
    "plt.xlabel('Age')\n",
    "plt.legend(labels=['Survived', 'Drowned']);"
   ]
  },
  {
   "cell_type": "code",
   "execution_count": 18,
   "id": "4e2e97af",
   "metadata": {},
   "outputs": [
    {
     "name": "stdout",
     "output_type": "stream",
     "text": [
      "+---------+--------------------+------------------+------------------+----------------+\n",
      "|   Class |   Female Survivors |   Female Drowned |   Male Survivors |   Male Drowned |\n",
      "+=========+====================+==================+==================+================+\n",
      "|       1 |                 91 |                3 |               45 |             77 |\n",
      "+---------+--------------------+------------------+------------------+----------------+\n",
      "|       2 |                 70 |                6 |               17 |             91 |\n",
      "+---------+--------------------+------------------+------------------+----------------+\n",
      "|       3 |                 72 |               72 |               47 |            300 |\n",
      "+---------+--------------------+------------------+------------------+----------------+\n"
     ]
    }
   ],
   "source": [
    "# cool ASCII-table with sex, class & survival status\n",
    "\n",
    "table_list = []\n",
    "table_list.append(['Class','Female Survivors', 'Female Drowned', 'Male Survivors', 'Male Drowned'])\n",
    "\n",
    "for pclass in [1, 2, 3]:\n",
    "    sub_list = []\n",
    "    sub_list.append(pclass)\n",
    "    for sex in ['female', 'male']:\n",
    "        for survival in [1, 0]:\n",
    "            value = ((full_data['Pclass'] == pclass) & (full_data['Sex'] == sex) & (full_data['Survived'] == survival)).sum()\n",
    "            sub_list.append(value)\n",
    "    table_list.append(sub_list)\n",
    "            \n",
    "print(tabulate(table_list, headers='firstrow', tablefmt='grid'))"
   ]
  },
  {
   "cell_type": "code",
   "execution_count": 13,
   "id": "3be182fc",
   "metadata": {},
   "outputs": [
    {
     "data": {
      "text/plain": [
       "'\\n1. Imputation\\n- fill in blanks:\\n;- Age: mean()\\n- Cabin: \"N\" for None\\n- Embarked: forward fill (assuming that the next passenger embarked on the same port as the one before him/her)\\n2. Preprocessors\\nList of preprocessors:\\n- Name: drop\\n- Sex: One-hot encoding\\n- Fare: log\\n- Cabin: one-hot encoding\\n- Embarked: one-hot encoding\\n--> normalize whole dataset\\n3. Split dataset\\n4. Train\\n5. Validate\\n'"
      ]
     },
     "execution_count": 13,
     "metadata": {},
     "output_type": "execute_result"
    }
   ],
   "source": [
    "# List of steps\n",
    "\n",
    "\"\"\"\n",
    "1. Imputation\n",
    "- fill in blanks:\n",
    ";- Age: mean()\n",
    "- Cabin: \"N\" for None\n",
    "- Embarked: forward fill (assuming that the next passenger embarked on the same port as the one before him/her)\n",
    "2. Preprocessors\n",
    "List of preprocessors:\n",
    "- Name: drop\n",
    "- Sex: One-hot encoding\n",
    "- Fare: log\n",
    "- Cabin: one-hot encoding\n",
    "- Embarked: one-hot encoding\n",
    "--> normalize whole dataset\n",
    "3. Split dataset\n",
    "4. Train\n",
    "5. Validate\n",
    "\"\"\""
   ]
  },
  {
   "cell_type": "code",
   "execution_count": 3,
   "id": "85b79d5e",
   "metadata": {},
   "outputs": [],
   "source": [
    "###################################################################\n",
    "###     Feature Engineering\n",
    "##################################################################"
   ]
  },
  {
   "cell_type": "code",
   "execution_count": 12,
   "id": "991013d5",
   "metadata": {},
   "outputs": [],
   "source": [
    "# Imputation\n",
    "\n",
    "# impute age with mean value\n",
    "full_data['Age'] = full_data['Age'].replace(to_replace=np.nan, value=full_data['Age'].mean())\n",
    "\n",
    "# impute cabin info with N \n",
    "full_data['Cabin'] = full_data['Cabin'].replace(to_replace=np.nan, value='N')\n",
    "\n",
    "# forward fill embarkment port\n",
    "full_data['Embarked'] = full_data['Embarked'].fillna(method='ffill')\n",
    "\n",
    "# fix for log operation: replace zero values in fare with ones\n",
    "full_data['Fare'] = full_data['Fare'].replace(to_replace=0, value=1)"
   ]
  },
  {
   "cell_type": "code",
   "execution_count": 13,
   "id": "533df92b",
   "metadata": {},
   "outputs": [],
   "source": [
    "# Extract deck and room features from cabin-column\n",
    "full_data[\"Deck\"] = full_data[\"Cabin\"].str.slice(0,1)\n",
    "full_data[\"Room\"] = full_data[\"Cabin\"].str.slice(1,5).str.extract(\"([0-9]+)\", expand=False).astype(\"float\")"
   ]
  },
  {
   "cell_type": "code",
   "execution_count": 14,
   "id": "8674a66d",
   "metadata": {},
   "outputs": [],
   "source": [
    "# Impute mean for missing room values\n",
    "full_data['Room'] = full_data['Room'].replace(to_replace=np.nan, value=full_data['Room'].mean())"
   ]
  },
  {
   "cell_type": "code",
   "execution_count": 15,
   "id": "af0292ce",
   "metadata": {},
   "outputs": [],
   "source": [
    "# One-Hot-Encoding for sex\n",
    "encoder = LabelBinarizer()\n",
    "encoder.fit(full_data['Sex'])\n",
    "encoder.classes_\n",
    "full_data['Sex'] = encoder.transform(full_data['Sex'])"
   ]
  },
  {
   "cell_type": "code",
   "execution_count": 16,
   "id": "cfe47d12",
   "metadata": {},
   "outputs": [],
   "source": [
    "# One-Hot-Encoding for embarkment port\n",
    "encoder = LabelBinarizer()\n",
    "encoder.fit(full_data['Embarked'])\n",
    "encoder.classes_\n",
    "df2 = pd.DataFrame(encoder.transform(full_data['Embarked']), columns=encoder.classes_)\n",
    "full_data = pd.concat([full_data,df2], axis=1)"
   ]
  },
  {
   "cell_type": "code",
   "execution_count": 17,
   "id": "10c89a3d",
   "metadata": {},
   "outputs": [],
   "source": [
    "# One-Hot-Encoding for Deck \n",
    "encoder = LabelBinarizer()\n",
    "encoder.fit(full_data['Deck'])\n",
    "encoder.classes_\n",
    "df2 = pd.DataFrame(encoder.transform(full_data['Deck']), columns=encoder.classes_)\n",
    "full_data = pd.concat([full_data,df2], axis=1)"
   ]
  },
  {
   "cell_type": "code",
   "execution_count": 18,
   "id": "893d88e7",
   "metadata": {},
   "outputs": [],
   "source": [
    "# Drop of all columns that have been transformed into before or are supposedly useless\n",
    "full_data.drop('Name', axis=1, inplace=True)\n",
    "full_data.drop('PassengerId', axis=1, inplace=True)\n",
    "full_data.drop('Ticket', axis=1, inplace=True)\n",
    "full_data.drop('Cabin', axis=1, inplace=True)\n",
    "full_data.drop('Embarked', axis=1, inplace=True)\n",
    "full_data.drop('Deck', axis=1, inplace=True)"
   ]
  },
  {
   "cell_type": "code",
   "execution_count": 19,
   "id": "7e8c53c5",
   "metadata": {
    "scrolled": true
   },
   "outputs": [
    {
     "data": {
      "text/plain": [
       "<AxesSubplot:xlabel='Fare', ylabel='Count'>"
      ]
     },
     "execution_count": 19,
     "metadata": {},
     "output_type": "execute_result"
    },
    {
     "data": {
      "image/png": "[encoded data removed]",
      "text/plain": [
       "<Figure size 432x288 with 1 Axes>"
      ]
     },
     "metadata": {
      "needs_background": "light"
     },
     "output_type": "display_data"
    }
   ],
   "source": [
    "# look at the fares distribution\n",
    "sns.histplot(full_data['Fare'])"
   ]
  },
  {
   "cell_type": "code",
   "execution_count": 20,
   "id": "f0bd221a",
   "metadata": {},
   "outputs": [],
   "source": [
    "# Convert Fare to log, bc high fares are somewhat out of range for the lower fares to still matter\n",
    "full_data['Fare'] = np.log(full_data['Fare'])"
   ]
  },
  {
   "cell_type": "code",
   "execution_count": 22,
   "id": "cccd3362",
   "metadata": {
    "scrolled": true
   },
   "outputs": [
    {
     "data": {
      "text/plain": [
       "<AxesSubplot:xlabel='Fare', ylabel='Count'>"
      ]
     },
     "execution_count": 22,
     "metadata": {},
     "output_type": "execute_result"
    },
    {
     "data": {
      "image/png": "[encoded data removed]",
      "text/plain": [
       "<Figure size 432x288 with 1 Axes>"
      ]
     },
     "metadata": {
      "needs_background": "light"
     },
     "output_type": "display_data"
    }
   ],
   "source": [
    "# look at the converted (log) fares\n",
    "sns.histplot(full_data['Fare'])"
   ]
  },
  {
   "cell_type": "code",
   "execution_count": 23,
   "id": "66facfbe",
   "metadata": {
    "scrolled": false
   },
   "outputs": [
    {
     "data": {
      "text/html": [
       "<div>\n",
       "<style scoped>\n",
       "    .dataframe tbody tr th:only-of-type {\n",
       "        vertical-align: middle;\n",
       "    }\n",
       "\n",
       "    .dataframe tbody tr th {\n",
       "        vertical-align: top;\n",
       "    }\n",
       "\n",
       "    .dataframe thead th {\n",
       "        text-align: right;\n",
       "    }\n",
       "</style>\n",
       "<table border=\"1\" class=\"dataframe\">\n",
       "  <thead>\n",
       "    <tr style=\"text-align: right;\">\n",
       "      <th></th>\n",
       "      <th>Survived</th>\n",
       "      <th>Pclass</th>\n",
       "      <th>Sex</th>\n",
       "      <th>Age</th>\n",
       "      <th>SibSp</th>\n",
       "      <th>Parch</th>\n",
       "      <th>Fare</th>\n",
       "      <th>Room</th>\n",
       "      <th>C</th>\n",
       "      <th>Q</th>\n",
       "      <th>S</th>\n",
       "      <th>A</th>\n",
       "      <th>B</th>\n",
       "      <th>C</th>\n",
       "      <th>D</th>\n",
       "      <th>E</th>\n",
       "      <th>F</th>\n",
       "      <th>G</th>\n",
       "      <th>N</th>\n",
       "      <th>T</th>\n",
       "    </tr>\n",
       "  </thead>\n",
       "  <tbody>\n",
       "  </tbody>\n",
       "</table>\n",
       "</div>"
      ],
      "text/plain": [
       "Empty DataFrame\n",
       "Columns: [Survived, Pclass, Sex, Age, SibSp, Parch, Fare, Room, C, Q, S, A, B, C, D, E, F, G, N, T]\n",
       "Index: []"
      ]
     },
     "execution_count": 23,
     "metadata": {},
     "output_type": "execute_result"
    }
   ],
   "source": [
    "# Check if log-operation did create inf values\n",
    "full_data[full_data.isin([np.inf, -np.inf]).any(axis = 1)]"
   ]
  },
  {
   "cell_type": "code",
   "execution_count": 24,
   "id": "c5f9757b",
   "metadata": {},
   "outputs": [],
   "source": [
    "# Split data into X and y\n",
    "X, y = full_data.loc[:,'Pclass':], full_data.loc[:,'Survived']"
   ]
  },
  {
   "cell_type": "code",
   "execution_count": 25,
   "id": "dd4cb75f",
   "metadata": {},
   "outputs": [
    {
     "data": {
      "text/plain": [
       "((801, 19), (90, 19), (801,), (90,))"
      ]
     },
     "execution_count": 25,
     "metadata": {},
     "output_type": "execute_result"
    }
   ],
   "source": [
    "# Train/Test-split and checking of shape\n",
    "X_train, X_test, y_train, y_test = train_test_split(X, y, test_size=0.1)\n",
    "X_train.shape, X_test.shape, y_train.shape, y_test.shape"
   ]
  },
  {
   "cell_type": "code",
   "execution_count": 26,
   "id": "787e2a27",
   "metadata": {},
   "outputs": [],
   "source": [
    "# Normalizing of all columns\n",
    "# fit scaler only on train data, apply to both train and test\n",
    "scaler = MinMaxScaler()\n",
    "scaler.fit(X_train)\n",
    "X_train[:] = scaler.transform(X_train)\n",
    "X_test[:] = scaler.transform(X_test)"
   ]
  },
  {
   "cell_type": "code",
   "execution_count": 19,
   "id": "4fceac32",
   "metadata": {},
   "outputs": [],
   "source": [
    "#######################################################################\n",
    "###                        Build Models\n",
    "#######################################################################"
   ]
  },
  {
   "cell_type": "code",
   "execution_count": 27,
   "id": "eb97fbc3",
   "metadata": {},
   "outputs": [
    {
     "data": {
      "text/plain": [
       "(0.8027465667915106, 0.8222222222222222)"
      ]
     },
     "execution_count": 27,
     "metadata": {},
     "output_type": "execute_result"
    }
   ],
   "source": [
    "# Set up model: Log regression and check score\n",
    "log_reg = LogisticRegression()\n",
    "log_reg.fit(X_train, y_train)\n",
    "log_reg.score(X_train, y_train), log_reg.score(X_test, y_test)"
   ]
  },
  {
   "cell_type": "code",
   "execution_count": 28,
   "id": "fb76831e",
   "metadata": {
    "scrolled": true
   },
   "outputs": [
    {
     "data": {
      "text/plain": [
       "<sklearn.metrics._plot.confusion_matrix.ConfusionMatrixDisplay at 0x1a2c52186a0>"
      ]
     },
     "execution_count": 28,
     "metadata": {},
     "output_type": "execute_result"
    },
    {
     "data": {
      "image/png": "[encoded data removed]",
      "text/plain": [
       "<Figure size 432x288 with 2 Axes>"
      ]
     },
     "metadata": {
      "needs_background": "light"
     },
     "output_type": "display_data"
    }
   ],
   "source": [
    "# look at y_true vs. y_hat (confusion matrix)\n",
    "y_hat = log_reg.predict(X_test)\n",
    "conf_mat = confusion_matrix(y_test, y_hat)\n",
    "ConfusionMatrixDisplay(conf_mat).plot()"
   ]
  },
  {
   "cell_type": "code",
   "execution_count": 29,
   "id": "56fb23dc",
   "metadata": {},
   "outputs": [
    {
     "data": {
      "text/plain": [
       "<matplotlib.legend.Legend at 0x1a2cd393490>"
      ]
     },
     "execution_count": 29,
     "metadata": {},
     "output_type": "execute_result"
    },
    {
     "data": {
      "image/png": "[encoded data removed]",
      "text/plain": [
       "<Figure size 432x288 with 1 Axes>"
      ]
     },
     "metadata": {
      "needs_background": "light"
     },
     "output_type": "display_data"
    }
   ],
   "source": [
    "# Check ROC-curve (plotting threshold as color for better understanding of the concept of the curve)\n",
    "probs = log_reg.predict_proba(X_train) \n",
    "fpr, tpr, threshold = roc_curve(y_train, probs[:,1]);\n",
    "\n",
    "#RocCurveDisplay(fpr=fpr, tpr=tpr).plot()\n",
    "ax = sns.scatterplot(x = fpr[1:], y = tpr[1:], hue = threshold[1:])\n",
    "ax.set(xlabel='False Positive Rate', ylabel='True Positive Rate')\n",
    "plt.legend(title='Threshold')"
   ]
  },
  {
   "cell_type": "code",
   "execution_count": 31,
   "id": "d0909740",
   "metadata": {},
   "outputs": [
    {
     "data": {
      "text/plain": [
       "(0.8102372034956304, 0.8222222222222222)"
      ]
     },
     "execution_count": 31,
     "metadata": {},
     "output_type": "execute_result"
    }
   ],
   "source": [
    "# set up another model (random forest classifier)\n",
    "forest = RandomForestClassifier(n_estimators=50, max_depth=3)\n",
    "forest.fit(X_train, y_train)\n",
    "forest.score(X_train, y_train), forest.score(X_test, y_test)"
   ]
  },
  {
   "cell_type": "code",
   "execution_count": 32,
   "id": "23ba42c2",
   "metadata": {
    "scrolled": false
   },
   "outputs": [
    {
     "data": {
      "text/plain": [
       "<sklearn.metrics._plot.confusion_matrix.ConfusionMatrixDisplay at 0x1a2c52cafa0>"
      ]
     },
     "execution_count": 32,
     "metadata": {},
     "output_type": "execute_result"
    },
    {
     "data": {
      "image/png": "[encoded data removed]",
      "text/plain": [
       "<Figure size 432x288 with 2 Axes>"
      ]
     },
     "metadata": {
      "needs_background": "light"
     },
     "output_type": "display_data"
    }
   ],
   "source": [
    "# have a look at the predictions vs. true y\n",
    "y_hat_f = forest.predict(X_test)\n",
    "conf_mat_f = confusion_matrix(y_test, y_hat_f)\n",
    "ConfusionMatrixDisplay(conf_mat_f).plot()"
   ]
  },
  {
   "cell_type": "code",
   "execution_count": null,
   "id": "c7162daa",
   "metadata": {},
   "outputs": [],
   "source": [
    "### ---> logistic regression and random forest yield almost the same score/accuracy"
   ]
  }
 ],
 "metadata": {
  "kernelspec": {
   "display_name": "Python 3 (ipykernel)",
   "language": "python",
   "name": "python3"
  },
  "language_info": {
   "codemirror_mode": {
    "name": "ipython",
    "version": 3
   },
   "file_extension": ".py",
   "mimetype": "text/x-python",
   "name": "python",
   "nbconvert_exporter": "python",
   "pygments_lexer": "ipython3",
   "version": "3.9.12"
  }
 },
 "nbformat": 4,
 "nbformat_minor": 5
}
